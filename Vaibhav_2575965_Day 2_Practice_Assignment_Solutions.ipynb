{
 "cells": [
  {
   "cell_type": "markdown",
   "id": "7cd37577",
   "metadata": {},
   "source": [
    "# Functions"
   ]
  },
  {
   "cell_type": "markdown",
   "id": "48d5df9b",
   "metadata": {},
   "source": [
    "# 1. Write a python Function to list even and odd numbers in a list."
   ]
  },
  {
   "cell_type": "code",
   "execution_count": 1,
   "id": "c6c3d18a",
   "metadata": {},
   "outputs": [
    {
     "name": "stdout",
     "output_type": "stream",
     "text": [
      "list of even numbers: [2, 4, 6, 8]\n",
      "list of odd numbers: [1, 3, 5, 7]\n"
     ]
    }
   ],
   "source": [
    "def find_even_odd(lst):\n",
    "    even = []\n",
    "    odd = []\n",
    "    for i in lst:\n",
    "        if i % 2 == 0:\n",
    "            even.append(i)\n",
    "        else:\n",
    "            odd.append(i)\n",
    "    return even, odd\n",
    "numbers = [1, 2, 3, 4, 5, 6, 7, 8]\n",
    "even_list, odd_list = find_even_odd(numbers)\n",
    "print(\"list of even numbers:\", even_list)\n",
    "print(\"list of odd numbers:\", odd_list)"
   ]
  },
  {
   "cell_type": "markdown",
   "id": "67d77e59",
   "metadata": {},
   "source": [
    "# 2. Write and run a Python program that asks the user to enter 8 integers (one at a time), and then prints out how many of those integers were even numbers. For example, if the user entered 19, 6, 9, 20, 13, 7, 6, and 1, then your program should print out 3 since 3 of those numbers were even."
   ]
  },
  {
   "cell_type": "code",
   "execution_count": 2,
   "id": "147ddba6",
   "metadata": {},
   "outputs": [
    {
     "name": "stdout",
     "output_type": "stream",
     "text": [
      "Enter an integer: 19\n",
      "Enter an integer: 21\n",
      "Enter an integer: 12\n",
      "Enter an integer: 13\n",
      "Enter an integer: 16\n",
      "Enter an integer: 18\n",
      "Enter an integer: 20\n",
      "Enter an integer: 3\n",
      "Number of even numbers: 4\n"
     ]
    }
   ],
   "source": [
    "count_even = 0\n",
    "for _ in range(8):\n",
    "    num = int(input(\"Enter an integer: \"))\n",
    "    if num % 2 == 0:\n",
    "        count_even += 1\n",
    "\n",
    "print(\"Number of even numbers:\", count_even)"
   ]
  },
  {
   "cell_type": "markdown",
   "id": "d3d65fe5",
   "metadata": {},
   "source": [
    "# 3. Write a Python program where you take any positive integer n, if n is even, divide it by 2 to get n/2. If n is odd, multiply it by 3 and add 1 to obtain 3n + 1. Repeat the process until you reach 1."
   ]
  },
  {
   "cell_type": "code",
   "execution_count": 23,
   "id": "dc37a1ee",
   "metadata": {},
   "outputs": [
    {
     "name": "stdout",
     "output_type": "stream",
     "text": [
      "Enter a positive integer: 5\n",
      "5 16 8 4 2 1\n"
     ]
    }
   ],
   "source": [
    "def reachone(n):\n",
    "    while n != 1:\n",
    "        print(n, end=' ')\n",
    "        if n % 2 == 0:\n",
    "            n = n // 2\n",
    "        else:\n",
    "            n = 3 * n + 1\n",
    "    print(1)\n",
    "\n",
    "n = int(input(\"Enter a positive integer: \"))\n",
    "reachone(n)"
   ]
  },
  {
   "cell_type": "markdown",
   "id": "ad1ec9f2",
   "metadata": {},
   "source": [
    "# 4. Write a Python program to compute the sum of all the multiples of 3 or 5 below 500."
   ]
  },
  {
   "cell_type": "code",
   "execution_count": 5,
   "id": "82adea09",
   "metadata": {},
   "outputs": [
    {
     "name": "stdout",
     "output_type": "stream",
     "text": [
      "Sum of multiples of 3 or 5 below 500: 57918\n"
     ]
    }
   ],
   "source": [
    "sum_multiples = 0\n",
    "for i in range(1, 500):\n",
    "    if i % 3 == 0 or i % 5 == 0:\n",
    "        sum_multiples += i\n",
    "\n",
    "print(\"Sum of multiples of 3 or 5 below 500:\", sum_multiples)\n"
   ]
  },
  {
   "cell_type": "markdown",
   "id": "e77a8e2a",
   "metadata": {},
   "source": [
    "# 5. To write a Python program to find first 'n' prime numbers from a list of given numbers."
   ]
  },
  {
   "cell_type": "code",
   "execution_count": 6,
   "id": "4c902dac",
   "metadata": {},
   "outputs": [
    {
     "name": "stdout",
     "output_type": "stream",
     "text": [
      "Enter the value of n: 10\n",
      "First 10 prime numbers: [2, 3, 5, 7, 11, 13, 17, 19, 23, 29]\n"
     ]
    }
   ],
   "source": [
    "def is_prime(num):\n",
    "    if num <= 1:\n",
    "        return False\n",
    "    for i in range(2, int(num**0.5) + 1):\n",
    "        if num % i == 0:\n",
    "            return False\n",
    "    return True\n",
    "\n",
    "def first_n_primes(n):\n",
    "    primes = []\n",
    "    num = 2\n",
    "    while len(primes) < n:\n",
    "        if is_prime(num):\n",
    "            primes.append(num)\n",
    "        num += 1\n",
    "    return primes\n",
    "\n",
    "n = int(input(\"Enter the value of n: \"))\n",
    "prime_list = first_n_primes(n)\n",
    "print(\"First\", n, \"prime numbers:\", prime_list)"
   ]
  },
  {
   "cell_type": "markdown",
   "id": "6508f24c",
   "metadata": {},
   "source": [
    "# 6. To write a Python program to compute matrix multiplication."
   ]
  },
  {
   "cell_type": "code",
   "execution_count": 7,
   "id": "4737e1b7",
   "metadata": {},
   "outputs": [
    {
     "name": "stdout",
     "output_type": "stream",
     "text": [
      "[19, 22]\n",
      "[43, 50]\n"
     ]
    }
   ],
   "source": [
    "def matrix_multiplication(m1, m2):\n",
    "    result = [[0 for _ in range(len(m2[0]))] for _ in range(len(m1))]\n",
    "    \n",
    "    for i in range(len(m1)):\n",
    "        for j in range(len(m2[0])):\n",
    "            for k in range(len(m2)):\n",
    "                result[i][j] += m1[i][k] * m2[k][j]\n",
    "    \n",
    "    return result\n",
    "\n",
    "matrix_A = [[1, 2], [3, 4]]\n",
    "matrix_B = [[5, 6], [7, 8]]\n",
    "result_matrix = matrix_multiplication(matrix_A, matrix_B)\n",
    "for row in result_matrix:\n",
    "    print(row)\n"
   ]
  },
  {
   "cell_type": "markdown",
   "id": "04201fa9",
   "metadata": {},
   "source": [
    "# 7. Write a python Function to count the number of vowels in a string."
   ]
  },
  {
   "cell_type": "code",
   "execution_count": 8,
   "id": "4718d67a",
   "metadata": {},
   "outputs": [
    {
     "name": "stdout",
     "output_type": "stream",
     "text": [
      "Number of vowels: 7\n"
     ]
    }
   ],
   "source": [
    "def count_vowels(string):\n",
    "    vowels = \"AEIOUaeiou\"\n",
    "    count = 0\n",
    "    for char in string:\n",
    "        if char in vowels:\n",
    "            count += 1\n",
    "    return count\n",
    "\n",
    "text = \"Employees in Mphasis\"\n",
    "print(\"Number of vowels:\", count_vowels(text))"
   ]
  },
  {
   "cell_type": "markdown",
   "id": "bc4c64d6",
   "metadata": {},
   "source": [
    "# 8. Write a python Function for finding factorial for the given number using a recursive function."
   ]
  },
  {
   "cell_type": "code",
   "execution_count": 10,
   "id": "bacd61d4",
   "metadata": {},
   "outputs": [
    {
     "name": "stdout",
     "output_type": "stream",
     "text": [
      "Enter a number: 4\n",
      "Factorial: 24\n"
     ]
    }
   ],
   "source": [
    "def factorial_recursive(n):\n",
    "    if n == 0:\n",
    "        return 1\n",
    "    else:\n",
    "        return n * factorial_recursive(n - 1)\n",
    "number = int(input(\"Enter a number: \"))\n",
    "print(\"Factorial:\", factorial_recursive(number))"
   ]
  },
  {
   "cell_type": "markdown",
   "id": "fdd4356a",
   "metadata": {},
   "source": [
    "# 9. Write a python Function for generating the Fibonacci series using the function."
   ]
  },
  {
   "cell_type": "code",
   "execution_count": 12,
   "id": "81686015",
   "metadata": {},
   "outputs": [
    {
     "name": "stdout",
     "output_type": "stream",
     "text": [
      "Enter the number of Fibonacci numbers to generate: 5\n",
      "Fibonacci sequence: [0, 1, 1, 2, 3]\n"
     ]
    }
   ],
   "source": [
    "def fibonacci(n):\n",
    "    fib_sequence = [0, 1]\n",
    "    while len(fib_sequence) < n:\n",
    "        fib_sequence.append(fib_sequence[-1] + fib_sequence[-2])\n",
    "    return fib_sequence\n",
    "\n",
    "n = int(input(\"Enter the number of Fibonacci numbers to generate: \"))\n",
    "fib_list = fibonacci(n)\n",
    "print(\"Fibonacci sequence:\", fib_list)"
   ]
  },
  {
   "cell_type": "markdown",
   "id": "12984543",
   "metadata": {},
   "source": [
    "# 10. Python program to display the given integer in reverse order using the function without an in-built function."
   ]
  },
  {
   "cell_type": "code",
   "execution_count": 13,
   "id": "0ddd4df5",
   "metadata": {},
   "outputs": [
    {
     "name": "stdout",
     "output_type": "stream",
     "text": [
      "Enter an integer: 45896\n",
      "Reversed integer: 69854\n"
     ]
    }
   ],
   "source": [
    "def reverse_integer(num):\n",
    "    reversed_num = int(str(num)[::-1])\n",
    "    return reversed_num\n",
    "\n",
    "num = int(input(\"Enter an integer: \"))\n",
    "reversed_num = reverse_integer(num)\n",
    "print(\"Reversed integer:\", reversed_num)"
   ]
  },
  {
   "cell_type": "markdown",
   "id": "434beaaa",
   "metadata": {},
   "source": [
    "# 11. Write a Python Function to display all integers within the range 200-300 whose sum of digits is an even number."
   ]
  },
  {
   "cell_type": "code",
   "execution_count": 14,
   "id": "e465dadd",
   "metadata": {},
   "outputs": [
    {
     "name": "stdout",
     "output_type": "stream",
     "text": [
      "Integers with even digit sum: [200, 202, 204, 206, 208, 211, 213, 215, 217, 219, 220, 222, 224, 226, 228, 231, 233, 235, 237, 239, 240, 242, 244, 246, 248, 251, 253, 255, 257, 259, 260, 262, 264, 266, 268, 271, 273, 275, 277, 279, 280, 282, 284, 286, 288, 291, 293, 295, 297, 299]\n"
     ]
    }
   ],
   "source": [
    "def is_even_digit_sum(num):\n",
    "    digit_sum = sum(int(digit) for digit in str(num))\n",
    "    return digit_sum % 2 == 0\n",
    "\n",
    "def even_digit_sum_numbers():\n",
    "    result = []\n",
    "    for num in range(200, 301):\n",
    "        if is_even_digit_sum(num):\n",
    "            result.append(num)\n",
    "    return result\n",
    "\n",
    "numbers_with_even_digit_sum = even_digit_sum_numbers()\n",
    "print(\"Integers with even digit sum:\", numbers_with_even_digit_sum)"
   ]
  },
  {
   "cell_type": "markdown",
   "id": "5bbf9ecd",
   "metadata": {},
   "source": [
    "# 12. Write a python Function to find the number of digits and sum of digits for a given integer."
   ]
  },
  {
   "cell_type": "code",
   "execution_count": 15,
   "id": "db258419",
   "metadata": {},
   "outputs": [
    {
     "name": "stdout",
     "output_type": "stream",
     "text": [
      "Enter an integer: 55\n",
      "Number of digits: 2\n",
      "Sum of digits: 10\n"
     ]
    }
   ],
   "source": [
    "def find_count_and_sum_digits(num):\n",
    "    num_str = str(num)\n",
    "    num_digits = len(num_str)\n",
    "    digit_sum = sum(int(digit) for digit in num_str)\n",
    "    return num_digits, digit_sum\n",
    "\n",
    "num = int(input(\"Enter an integer: \"))\n",
    "num_digits, digit_sum = find_count_and_sum_digits(num)\n",
    "print(\"Number of digits:\", num_digits)\n",
    "print(\"Sum of digits:\", digit_sum)\n"
   ]
  },
  {
   "cell_type": "markdown",
   "id": "30b29daa",
   "metadata": {},
   "source": [
    "# 13. Write functions called is_sorted that takes a list as a parameter and returns True if the list is sorted in ascending order and False otherwise and has duplicates that takes a list and returns True if there is any element that appears more than once. It should not modify the original list."
   ]
  },
  {
   "cell_type": "code",
   "execution_count": 24,
   "id": "9aa6cc59",
   "metadata": {},
   "outputs": [
    {
     "name": "stdout",
     "output_type": "stream",
     "text": [
      "Is the list sorted? False\n",
      "Does the list have duplicates? True\n"
     ]
    }
   ],
   "source": [
    "def is_sorted(lst):\n",
    "    return all(lst[i] <= lst[i + 1] for i in range(len(lst) - 1))\n",
    "\n",
    "def has_duplicates(lst):\n",
    "    seen = set()\n",
    "    for item in lst:\n",
    "        if item in seen:\n",
    "            return True\n",
    "        seen.add(item)\n",
    "    return False\n",
    "my_list = [18, 2, 8, 2, 4, 5]\n",
    "print(\"Is the list sorted?\", is_sorted(my_list))\n",
    "print(\"Does the list have duplicates?\", has_duplicates(my_list))\n"
   ]
  },
  {
   "cell_type": "markdown",
   "id": "5d8d0b25",
   "metadata": {},
   "source": [
    "# 14. Write functions called nested_sum that takes a list of integers and adds up the elements from all the nested lists and cumsum that takes a list of numbers and returns the cumulative sum; that is, a new list where the ith element is the sum of the first i + 1 elements from the original list."
   ]
  },
  {
   "cell_type": "code",
   "execution_count": 18,
   "id": "6bd2f1b5",
   "metadata": {},
   "outputs": [
    {
     "name": "stdout",
     "output_type": "stream",
     "text": [
      "Nested sum: 36\n",
      "Cumulative sum: [1, 3, 6, 10, 15]\n"
     ]
    }
   ],
   "source": [
    "def nested_sum(nested_list):\n",
    "    total = 0\n",
    "    for sublist in nested_list:\n",
    "        total += sum(sublist)\n",
    "    return total\n",
    "\n",
    "def cumsum(lst):\n",
    "    cumulative_sum = []\n",
    "    running_sum = 0\n",
    "    for num in lst:\n",
    "        running_sum += num\n",
    "        cumulative_sum.append(running_sum)\n",
    "    return cumulative_sum\n",
    "nested_numbers = [[1, 2, 3], [4, 5], [6, 7, 8]]\n",
    "print(\"Nested sum:\", nested_sum(nested_numbers))\n",
    "my_list = [1, 2, 3, 4, 5]\n",
    "print(\"Cumulative sum:\", cumsum(my_list))\n"
   ]
  },
  {
   "cell_type": "code",
   "execution_count": null,
   "id": "8038933f",
   "metadata": {},
   "outputs": [],
   "source": []
  }
 ],
 "metadata": {
  "kernelspec": {
   "display_name": "Python 3 (ipykernel)",
   "language": "python",
   "name": "python3"
  },
  "language_info": {
   "codemirror_mode": {
    "name": "ipython",
    "version": 3
   },
   "file_extension": ".py",
   "mimetype": "text/x-python",
   "name": "python",
   "nbconvert_exporter": "python",
   "pygments_lexer": "ipython3",
   "version": "3.11.4"
  }
 },
 "nbformat": 4,
 "nbformat_minor": 5
}
