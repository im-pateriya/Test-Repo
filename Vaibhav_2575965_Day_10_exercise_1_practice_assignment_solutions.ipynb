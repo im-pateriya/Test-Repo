{
 "cells": [
  {
   "cell_type": "code",
   "execution_count": 1,
   "id": "ec027ecb",
   "metadata": {},
   "outputs": [],
   "source": [
    "import numpy as np\n",
    "import pandas as pd"
   ]
  },
  {
   "cell_type": "code",
   "execution_count": 2,
   "id": "4c3a8abd",
   "metadata": {},
   "outputs": [],
   "source": [
    "first_series = pd.Series(list('Vaibhav'))"
   ]
  },
  {
   "cell_type": "code",
   "execution_count": 3,
   "id": "175c8270",
   "metadata": {},
   "outputs": [
    {
     "name": "stdout",
     "output_type": "stream",
     "text": [
      "0    V\n",
      "1    a\n",
      "2    i\n",
      "3    b\n",
      "4    h\n",
      "5    a\n",
      "6    v\n",
      "dtype: object\n"
     ]
    }
   ],
   "source": [
    "print (first_series)"
   ]
  },
  {
   "cell_type": "code",
   "execution_count": null,
   "id": "9f3ad44a",
   "metadata": {},
   "outputs": [],
   "source": []
  },
  {
   "cell_type": "code",
   "execution_count": 3,
   "id": "3526c6a8",
   "metadata": {},
   "outputs": [
    {
     "data": {
      "text/html": [
       "<div>\n",
       "<style scoped>\n",
       "    .dataframe tbody tr th:only-of-type {\n",
       "        vertical-align: middle;\n",
       "    }\n",
       "\n",
       "    .dataframe tbody tr th {\n",
       "        vertical-align: top;\n",
       "    }\n",
       "\n",
       "    .dataframe thead th {\n",
       "        text-align: right;\n",
       "    }\n",
       "</style>\n",
       "<table border=\"1\" class=\"dataframe\">\n",
       "  <thead>\n",
       "    <tr style=\"text-align: right;\">\n",
       "      <th></th>\n",
       "      <th>title</th>\n",
       "      <th>year</th>\n",
       "    </tr>\n",
       "  </thead>\n",
       "  <tbody>\n",
       "    <tr>\n",
       "      <th>0</th>\n",
       "      <td>Tasveer Mere Sanam</td>\n",
       "      <td>1996</td>\n",
       "    </tr>\n",
       "    <tr>\n",
       "      <th>1</th>\n",
       "      <td>Only You</td>\n",
       "      <td>1994</td>\n",
       "    </tr>\n",
       "    <tr>\n",
       "      <th>2</th>\n",
       "      <td>El pueblo del terror</td>\n",
       "      <td>1970</td>\n",
       "    </tr>\n",
       "    <tr>\n",
       "      <th>3</th>\n",
       "      <td>Machine</td>\n",
       "      <td>2007</td>\n",
       "    </tr>\n",
       "    <tr>\n",
       "      <th>4</th>\n",
       "      <td>MARy</td>\n",
       "      <td>2008</td>\n",
       "    </tr>\n",
       "  </tbody>\n",
       "</table>\n",
       "</div>"
      ],
      "text/plain": [
       "                  title  year\n",
       "0    Tasveer Mere Sanam  1996\n",
       "1              Only You  1994\n",
       "2  El pueblo del terror  1970\n",
       "3               Machine  2007\n",
       "4                  MARy  2008"
      ]
     },
     "execution_count": 3,
     "metadata": {},
     "output_type": "execute_result"
    }
   ],
   "source": [
    "%matplotlib inline\n",
    "\n",
    "import pandas as pd\n",
    "from IPython.core.display import HTML\n",
    "\n",
    "titles = pd.read_csv(\"C:/Users/pater/OneDrive/Documents/Code Practice/Python/titles.csv\")\n",
    "titles.head()"
   ]
  },
  {
   "cell_type": "markdown",
   "id": "cfd64944",
   "metadata": {},
   "source": [
    "# 1. How many movies are listed in the titles dataframe?"
   ]
  },
  {
   "cell_type": "code",
   "execution_count": 4,
   "id": "7ac90e16",
   "metadata": {},
   "outputs": [
    {
     "name": "stdout",
     "output_type": "stream",
     "text": [
      "The number of movies listed in the titles DataFrame is: 244914\n"
     ]
    }
   ],
   "source": [
    "# Assuming 'titles' is your DataFrame\n",
    "num_movies = titles.shape[0]\n",
    "print(f'The number of movies listed in the titles DataFrame is: {num_movies}')\n"
   ]
  },
  {
   "cell_type": "markdown",
   "id": "13b50792",
   "metadata": {},
   "source": [
    "# 2. What are the earliest two films listed in the titles dataframe?"
   ]
  },
  {
   "cell_type": "code",
   "execution_count": 5,
   "id": "edd005a0",
   "metadata": {},
   "outputs": [
    {
     "name": "stdout",
     "output_type": "stream",
     "text": [
      "The earliest two films listed:\n",
      "                     title  year\n",
      "193222          Miss Jerry  1894\n",
      "51388   The Startled Lover  1898\n"
     ]
    }
   ],
   "source": [
    "df = pd.read_csv(\"titles.csv\")\n",
    "\n",
    "df_sorted = df.sort_values(by='year')\n",
    "\n",
    "earliest_films = df_sorted.head(2)\n",
    "\n",
    "print(\"The earliest two films listed:\")\n",
    "print(earliest_films[['title', 'year']])"
   ]
  },
  {
   "cell_type": "markdown",
   "id": "1e6a7698",
   "metadata": {},
   "source": [
    "# 3. How many movies have the title \"Hamlet\"?"
   ]
  },
  {
   "cell_type": "code",
   "execution_count": 6,
   "id": "2dffc222",
   "metadata": {},
   "outputs": [
    {
     "name": "stdout",
     "output_type": "stream",
     "text": [
      "Number of movies with the title 'Hamlet': 20\n"
     ]
    }
   ],
   "source": [
    "hamlet_count = df['title'].value_counts()['Hamlet']\n",
    "\n",
    "# Approach 2: Using boolean indexing and sum()\n",
    "hamlet_count = (df['title'] == 'Hamlet').sum()\n",
    "\n",
    "print(\"Number of movies with the title 'Hamlet':\", hamlet_count)"
   ]
  },
  {
   "cell_type": "markdown",
   "id": "75081268",
   "metadata": {},
   "source": [
    "# 4. How many movies are titled \"North by Northwest\"?"
   ]
  },
  {
   "cell_type": "code",
   "execution_count": 7,
   "id": "cadbc6c8",
   "metadata": {},
   "outputs": [
    {
     "name": "stdout",
     "output_type": "stream",
     "text": [
      "Number of movies with the title 'North by Northwest': 1\n"
     ]
    }
   ],
   "source": [
    "north_by_northwest_count = df['title'].value_counts()['North by Northwest']\n",
    "\n",
    "# Approach 2: Using boolean indexing and sum()\n",
    "north_by_northwest_count = (df['title'] == 'North by Northwest').sum()\n",
    "\n",
    "print(\"Number of movies with the title 'North by Northwest':\", north_by_northwest_count)"
   ]
  },
  {
   "cell_type": "markdown",
   "id": "035bdaa8",
   "metadata": {},
   "source": [
    "# 5. When was the first movie titled \"Hamlet\" made?"
   ]
  },
  {
   "cell_type": "code",
   "execution_count": 8,
   "id": "8b45c2f4",
   "metadata": {},
   "outputs": [
    {
     "name": "stdout",
     "output_type": "stream",
     "text": [
      "The first movie titled 'Hamlet' was made in the year: 1910\n"
     ]
    }
   ],
   "source": [
    "hamlet_movies = df[df['title'] == 'Hamlet']\n",
    "\n",
    "# Find the minimum year in the filtered DataFrame\n",
    "first_hamlet_movie_year = hamlet_movies['year'].min()\n",
    "\n",
    "print(\"The first movie titled 'Hamlet' was made in the year:\", first_hamlet_movie_year)"
   ]
  },
  {
   "cell_type": "markdown",
   "id": "5dc05bee",
   "metadata": {},
   "source": [
    "# 6. How many movies were made in the year 1950?"
   ]
  },
  {
   "cell_type": "code",
   "execution_count": 9,
   "id": "441e91b4",
   "metadata": {},
   "outputs": [
    {
     "name": "stdout",
     "output_type": "stream",
     "text": [
      "Number of movies made in the year 1950: 1113\n"
     ]
    }
   ],
   "source": [
    "movies_1950 = df[df['year'] == 1950]\n",
    "\n",
    "# Count the number of rows in the filtered DataFrame\n",
    "number_of_movies_1950 = len(movies_1950)\n",
    "\n",
    "print(\"Number of movies made in the year 1950:\", number_of_movies_1950)"
   ]
  },
  {
   "cell_type": "markdown",
   "id": "b1a08b60",
   "metadata": {},
   "source": [
    "# 7. How many movies were made in the year 1960?"
   ]
  },
  {
   "cell_type": "code",
   "execution_count": 10,
   "id": "499ac4d1",
   "metadata": {},
   "outputs": [
    {
     "name": "stdout",
     "output_type": "stream",
     "text": [
      "Number of movies made in the year 1960: 1549\n"
     ]
    }
   ],
   "source": [
    "movies_1960 = df[df['year'] == 1960]\n",
    "\n",
    "# Count the number of rows in the filtered DataFrame\n",
    "number_of_movies_1960 = len(movies_1960)\n",
    "\n",
    "print(\"Number of movies made in the year 1960:\", number_of_movies_1960)"
   ]
  },
  {
   "cell_type": "markdown",
   "id": "3ee69e6b",
   "metadata": {},
   "source": [
    "# 8. How many movies were made from 1950 through 1959?"
   ]
  },
  {
   "cell_type": "code",
   "execution_count": 11,
   "id": "efa5da46",
   "metadata": {},
   "outputs": [
    {
     "name": "stdout",
     "output_type": "stream",
     "text": [
      "Number of movies made from 1950 through 1959: 12934\n"
     ]
    }
   ],
   "source": [
    "movies_1950s = df[(df['year'] >= 1950) & (df['year'] <= 1959)]\n",
    "\n",
    "# Count the number of rows in the filtered DataFrame\n",
    "number_of_movies_1950s = len(movies_1950s)\n",
    "\n",
    "print(\"Number of movies made from 1950 through 1959:\", number_of_movies_1950s)"
   ]
  },
  {
   "cell_type": "markdown",
   "id": "5114fcfd",
   "metadata": {},
   "source": [
    "# 9. In what years has a movie titled \"Batman\" been released?"
   ]
  },
  {
   "cell_type": "code",
   "execution_count": 12,
   "id": "22764e82",
   "metadata": {},
   "outputs": [
    {
     "name": "stdout",
     "output_type": "stream",
     "text": [
      "Years in which a movie titled 'Batman' has been released: [1943 1989]\n"
     ]
    }
   ],
   "source": [
    "batman_movies = df[df['title'] == 'Batman']\n",
    "\n",
    "# Extract the unique release years of Batman movies\n",
    "years_with_batman_movies = batman_movies['year'].unique()\n",
    "\n",
    "print(\"Years in which a movie titled 'Batman' has been released:\", years_with_batman_movies)"
   ]
  },
  {
   "cell_type": "markdown",
   "id": "056fabcc",
   "metadata": {},
   "source": [
    "# 10. How many roles were there in the movie \"Inception\"?"
   ]
  },
  {
   "cell_type": "code",
   "execution_count": 14,
   "id": "30d94ac4",
   "metadata": {},
   "outputs": [
    {
     "name": "stdout",
     "output_type": "stream",
     "text": [
      "The number of roles in the movie \"Inception\" is: 56\n"
     ]
    }
   ],
   "source": [
    "import pandas as pd\n",
    "\n",
    "csv_file = \"cast.csv\"\n",
    "\n",
    "df = pd.read_csv(csv_file)\n",
    "\n",
    "inception_roles = df[df['title'] == 'Inception']\n",
    "\n",
    "num_roles_inception = inception_roles['character'].nunique()\n",
    "\n",
    "print(f'The number of roles in the movie \"Inception\" is: {num_roles_inception}')"
   ]
  },
  {
   "cell_type": "markdown",
   "id": "b9605892",
   "metadata": {},
   "source": [
    "# 11. How many roles in the movie \"Inception\" are NOT ranked by an \"n\" value?"
   ]
  },
  {
   "cell_type": "code",
   "execution_count": null,
   "id": "516424ba",
   "metadata": {},
   "outputs": [],
   "source": [
    "inception_roles = df[df['title'] == 'Inception']\n",
    "\n",
    "# Count the number of roles in \"Inception\" with missing or null \"n\" values\n",
    "roles_not_ranked = inception_roles['n'].isna().sum()\n",
    "\n",
    "print(\"Number of roles in the movie 'Inception' not ranked by an 'n' value:\", roles_not_ranked)"
   ]
  },
  {
   "cell_type": "code",
   "execution_count": null,
   "id": "7685b110",
   "metadata": {},
   "outputs": [],
   "source": [
    "12. But how many roles in the movie \"Inception\" did receive an \"n\" value?"
   ]
  },
  {
   "cell_type": "code",
   "execution_count": 16,
   "id": "4bdf9b97",
   "metadata": {},
   "outputs": [
    {
     "name": "stdout",
     "output_type": "stream",
     "text": [
      "Number of roles in the movie 'Inception' with an 'n' value: 51\n"
     ]
    }
   ],
   "source": [
    "inception_roles = df[df['title'] == 'Inception']\n",
    "\n",
    "# Count the number of roles in \"Inception\" with non-null \"n\" values\n",
    "roles_with_n_value = inception_roles['n'].count()\n",
    "\n",
    "print(\"Number of roles in the movie 'Inception' with an 'n' value:\", roles_with_n_value)"
   ]
  },
  {
   "cell_type": "markdown",
   "id": "af5ab7a9",
   "metadata": {},
   "source": [
    "# 13. Display the cast of \"North by Northwest\" in their correct \"n\"-value order, ignoring roles that did not earn a numeric \"n\" value."
   ]
  },
  {
   "cell_type": "code",
   "execution_count": 17,
   "id": "044f18c4",
   "metadata": {},
   "outputs": [
    {
     "name": "stdout",
     "output_type": "stream",
     "text": [
      "                         name     n\n",
      "871426             Cary Grant   1.0\n",
      "3518333       Eva Marie Saint   2.0\n",
      "1457165           James Mason   3.0\n",
      "3157232   Jessie Royce Landis   4.0\n",
      "356707         Leo G. Carroll   5.0\n",
      "3048272  Josephine Hutchinson   6.0\n",
      "1695173           Philip Ober   7.0\n",
      "1275337         Martin Landau   8.0\n",
      "2447081         Adam Williams   9.0\n",
      "1811387          Edward Platt  10.0\n",
      "665768      Robert Ellenstein  11.0\n",
      "2295714          Les Tremayne  12.0\n",
      "464736        Philip Coolidge  13.0\n",
      "1508344         Patrick McVey  14.0\n",
      "206471           Edward Binns  15.0\n",
      "1384780             Ken Lynch  16.0\n"
     ]
    }
   ],
   "source": [
    "north_by_northwest_cast = df[(df['title'] == 'North by Northwest')]\n",
    "\n",
    "north_by_northwest_cast = north_by_northwest_cast[pd.to_numeric(north_by_northwest_cast['n'], errors='coerce').notna()]\n",
    "\n",
    "# Convert the \"n\" column to numeric for sorting\n",
    "north_by_northwest_cast['n'] = pd.to_numeric(north_by_northwest_cast['n'])\n",
    "\n",
    "north_by_northwest_cast = north_by_northwest_cast.sort_values(by='n')\n",
    "\n",
    "# Display the cast in their correct \"n\"-value order\n",
    "print(north_by_northwest_cast[['name', 'n']])"
   ]
  },
  {
   "cell_type": "markdown",
   "id": "677542ef",
   "metadata": {},
   "source": [
    "# 14 . Display the entire cast, in \"n\"-order, of the 1972 film \"Sleuth\""
   ]
  },
  {
   "cell_type": "code",
   "execution_count": 18,
   "id": "f20592e1",
   "metadata": {},
   "outputs": [
    {
     "name": "stdout",
     "output_type": "stream",
     "text": [
      "                       name    n\n",
      "1705394    Laurence Olivier  1.0\n",
      "326773        Michael Caine  2.0\n",
      "373876       Alec Cawthorne  3.0\n",
      "1465483  John (II) Matthews  4.0\n",
      "2724553  Eve (III) Channing  5.0\n",
      "1448690        Teddy Martin  6.0\n"
     ]
    }
   ],
   "source": [
    "sleuth_1972_cast = df[(df['title'] == 'Sleuth') & (df['year'] == 1972)]\n",
    "\n",
    "sleuth_1972_cast = sleuth_1972_cast.sort_values(by='n')\n",
    "\n",
    "# Display the entire cast in \"n\"-order\n",
    "print(sleuth_1972_cast[['name', 'n']])"
   ]
  },
  {
   "cell_type": "markdown",
   "id": "664031e5",
   "metadata": {},
   "source": [
    "# 15. Now display the entire cast, in \"n\"-order, of the 2007 version of \"Sleuth\"."
   ]
  },
  {
   "cell_type": "code",
   "execution_count": 19,
   "id": "9f23cb84",
   "metadata": {},
   "outputs": [
    {
     "name": "stdout",
     "output_type": "stream",
     "text": [
      "                        name    n\n",
      "326774         Michael Caine  1.0\n",
      "1293634             Jude Law  2.0\n",
      "1805907        Harold Pinter  3.0\n",
      "260242       Kenneth Branagh  NaN\n",
      "373877   Alec (II) Cawthorne  NaN\n",
      "2724552    Eve (II) Channing  NaN\n",
      "3370424    Carmel O'Sullivan  NaN\n"
     ]
    }
   ],
   "source": [
    "sleuth_2007_cast = df[(df['title'] == 'Sleuth') & (df['year'] == 2007)]\n",
    "\n",
    "# Sort the DataFrame by the \"n\" value to order the cast correctly\n",
    "sleuth_2007_cast = sleuth_2007_cast.sort_values(by='n')\n",
    "\n",
    "# Display the entire cast in \"n\"-order\n",
    "print(sleuth_2007_cast[['name', 'n']])"
   ]
  },
  {
   "cell_type": "markdown",
   "id": "6a63148e",
   "metadata": {},
   "source": [
    "# 16. How many roles were credited in the silent 1921 version of Hamlet?"
   ]
  },
  {
   "cell_type": "code",
   "execution_count": 20,
   "id": "5cc2bcd4",
   "metadata": {},
   "outputs": [
    {
     "name": "stdout",
     "output_type": "stream",
     "text": [
      "Number of roles credited in the silent 1921 version of 'Hamlet': 9\n"
     ]
    }
   ],
   "source": [
    "hamlet_1921_roles = df[(df['title'] == 'Hamlet') & (df['year'] == 1921)]\n",
    "\n",
    "# Count the number of unique roles credited in the 1921 version of \"Hamlet\"\n",
    "number_of_roles_1921 = len(hamlet_1921_roles['character'].unique())\n",
    "\n",
    "print(\"Number of roles credited in the silent 1921 version of 'Hamlet':\", number_of_roles_1921)"
   ]
  },
  {
   "cell_type": "markdown",
   "id": "b37d6b37",
   "metadata": {},
   "source": [
    "# 17. How many roles were credited in Branagh's 1996 Hamlet?"
   ]
  },
  {
   "cell_type": "code",
   "execution_count": 21,
   "id": "f314dbee",
   "metadata": {},
   "outputs": [
    {
     "name": "stdout",
     "output_type": "stream",
     "text": [
      "Number of roles credited in Kenneth Branagh's 1996 version of 'Hamlet': 49\n"
     ]
    }
   ],
   "source": [
    "branagh_hamlet_1996_roles = df[(df['title'] == 'Hamlet') & (df['year'] == 1996)]\n",
    "\n",
    "# Count the number of unique roles credited in Branagh's 1996 version of \"Hamlet\"\n",
    "number_of_roles_branagh_1996 = len(branagh_hamlet_1996_roles['character'].unique())\n",
    "\n",
    "print(\"Number of roles credited in Kenneth Branagh's 1996 version of 'Hamlet':\", number_of_roles_branagh_1996)"
   ]
  },
  {
   "cell_type": "markdown",
   "id": "e26576c7",
   "metadata": {},
   "source": [
    "# 18. How many \"Hamlet\" roles have been listed in all film credits through history?"
   ]
  },
  {
   "cell_type": "code",
   "execution_count": 22,
   "id": "f05ed136",
   "metadata": {},
   "outputs": [
    {
     "name": "stdout",
     "output_type": "stream",
     "text": [
      "Number of 'Hamlet' roles listed in all film credits through history: 485\n"
     ]
    }
   ],
   "source": [
    "hamlet_roles = df[df['title'].str.contains('Hamlet', case=False, regex=False)]\n",
    "\n",
    "# Count the number of unique roles across all \"Hamlet\" films\n",
    "total_hamlet_roles = len(hamlet_roles['character'].unique())\n",
    "\n",
    "print(\"Number of 'Hamlet' roles listed in all film credits through history:\", total_hamlet_roles)"
   ]
  },
  {
   "cell_type": "markdown",
   "id": "0454642a",
   "metadata": {},
   "source": [
    "# 19. How many people have played an \"Ophelia\"?"
   ]
  },
  {
   "cell_type": "code",
   "execution_count": 23,
   "id": "d2c5662a",
   "metadata": {},
   "outputs": [
    {
     "name": "stdout",
     "output_type": "stream",
     "text": [
      "Number of people who have played the character 'Ophelia': 115\n"
     ]
    }
   ],
   "source": [
    "ophelia_actors = df[df['character'] == 'Ophelia']\n",
    "\n",
    "# Count the number of unique actors who have played the character \"Ophelia\"\n",
    "number_of_ophelia_actors = len(ophelia_actors['name'].unique())\n",
    "\n",
    "print(\"Number of people who have played the character 'Ophelia':\", number_of_ophelia_actors)"
   ]
  },
  {
   "cell_type": "markdown",
   "id": "8a31a7c2",
   "metadata": {},
   "source": [
    "# 20. How many people have played a role called \"The Dude\"?"
   ]
  },
  {
   "cell_type": "code",
   "execution_count": 24,
   "id": "dd168f9c",
   "metadata": {},
   "outputs": [
    {
     "name": "stdout",
     "output_type": "stream",
     "text": [
      "Number of people who have played a role called 'The Dude': 19\n"
     ]
    }
   ],
   "source": [
    "the_dude_actors = df[df['character'] == 'The Dude']\n",
    "\n",
    "# Count the number of unique actors who have played the character \"The Dude\"\n",
    "number_of_the_dude_actors = len(the_dude_actors['name'].unique())\n",
    "\n",
    "print(\"Number of people who have played a role called 'The Dude':\", number_of_the_dude_actors)"
   ]
  },
  {
   "cell_type": "markdown",
   "id": "8b56d53d",
   "metadata": {},
   "source": [
    "# 21. How many people have played a role called \"The Stranger\"?"
   ]
  },
  {
   "cell_type": "code",
   "execution_count": 25,
   "id": "4fa6888c",
   "metadata": {},
   "outputs": [
    {
     "name": "stdout",
     "output_type": "stream",
     "text": [
      "Number of people who have played a role called 'The Stranger': 202\n"
     ]
    }
   ],
   "source": [
    "the_stranger_actors = df[df['character'] == 'The Stranger']\n",
    "\n",
    "# Count the number of unique actors who have played the character \"The Stranger\"\n",
    "number_of_the_stranger_actors = len(the_stranger_actors['name'].unique())\n",
    "\n",
    "print(\"Number of people who have played a role called 'The Stranger':\", number_of_the_stranger_actors)"
   ]
  },
  {
   "cell_type": "markdown",
   "id": "2d3262ed",
   "metadata": {},
   "source": [
    "# 22. How many roles has Sidney Poitier played throughout his career?"
   ]
  },
  {
   "cell_type": "code",
   "execution_count": 26,
   "id": "986971e2",
   "metadata": {},
   "outputs": [
    {
     "name": "stdout",
     "output_type": "stream",
     "text": [
      "Number of roles played by Sidney Poitier throughout his career: 41\n"
     ]
    }
   ],
   "source": [
    "sidney_poitier_roles = df[df['name'] == 'Sidney Poitier']\n",
    "\n",
    "# Count the number of unique roles played by Sidney Poitier\n",
    "number_of_sidney_poitier_roles = len(sidney_poitier_roles['character'].unique())\n",
    "\n",
    "print(\"Number of roles played by Sidney Poitier throughout his career:\", number_of_sidney_poitier_roles)"
   ]
  },
  {
   "cell_type": "markdown",
   "id": "25907392",
   "metadata": {},
   "source": [
    "# 23. How many roles has Judi Dench played?"
   ]
  },
  {
   "cell_type": "code",
   "execution_count": 27,
   "id": "f315b192",
   "metadata": {},
   "outputs": [
    {
     "name": "stdout",
     "output_type": "stream",
     "text": [
      "Number of roles played by Judi Dench throughout her career: 46\n"
     ]
    }
   ],
   "source": [
    "judi_dench_roles = df[df['name'] == 'Judi Dench']\n",
    "\n",
    "# Count the number of unique roles played by Judi Dench\n",
    "number_of_judi_dench_roles = len(judi_dench_roles['character'].unique())\n",
    "\n",
    "print(\"Number of roles played by Judi Dench throughout her career:\", number_of_judi_dench_roles)"
   ]
  },
  {
   "cell_type": "markdown",
   "id": "ec59f74f",
   "metadata": {},
   "source": [
    "# 24. List the supporting roles (having n=2) played by Cary Grant in the 1940s, in order by year."
   ]
  },
  {
   "cell_type": "code",
   "execution_count": 28,
   "id": "8676a39b",
   "metadata": {},
   "outputs": [
    {
     "name": "stdout",
     "output_type": "stream",
     "text": [
      "        year    character\n",
      "871423  1940   Nick Arden\n",
      "871433  1941  Roger Adams\n"
     ]
    }
   ],
   "source": [
    "cary_grant_supporting_roles_1940s = df[(df['name'] == 'Cary Grant') & (df['n'] == 2) & (df['year'] >= 1940) & (df['year'] <= 1949)]\n",
    "\n",
    "# Sort the DataFrame by the 'year' column to order the roles by year\n",
    "cary_grant_supporting_roles_1940s = cary_grant_supporting_roles_1940s.sort_values(by='year')\n",
    "\n",
    "# Display the supporting roles played by Cary Grant in the 1940s\n",
    "print(cary_grant_supporting_roles_1940s[['year', 'character']])"
   ]
  },
  {
   "cell_type": "markdown",
   "id": "3ee285b4",
   "metadata": {},
   "source": [
    "# 25. List the leading roles that Cary Grant played in the 1940s in order by year"
   ]
  },
  {
   "cell_type": "code",
   "execution_count": 29,
   "id": "83869696",
   "metadata": {},
   "outputs": [
    {
     "name": "stdout",
     "output_type": "stream",
     "text": [
      "        year                             character\n",
      "871448  1940                           Matt Howard\n",
      "871407  1940                          Walter Burns\n",
      "871450  1940                    C. K. Dexter Haven\n",
      "871438  1941                      Johnnie Aysgarth\n",
      "871452  1942                          Leopold Dilg\n",
      "871429  1942                 Patrick 'Pat' O'Toole\n",
      "871398  1943                         Capt. Cassidy\n",
      "871422  1943  Joe Adams -posing as Joe Bascopolous\n",
      "871430  1944                           Jerry Flynn\n",
      "871390  1944                     Mortimer Brewster\n",
      "871425  1944                            Ernie Mott\n",
      "871424  1946                           Cole Porter\n",
      "871427  1946                                Devlin\n",
      "871444  1947                           Dick Nugent\n",
      "871445  1947                                Dudley\n",
      "871421  1948                         Jim Blandings\n",
      "871402  1948                     Dr. Madison Brown\n",
      "871411  1949                 Captain Henri Rochard\n"
     ]
    }
   ],
   "source": [
    "cary_grant_leading_roles_1940s = df[(df['name'] == 'Cary Grant') & (df['n'] == 1) & (df['year'] >= 1940) & (df['year'] <= 1949)]\n",
    "\n",
    "# Sort the DataFrame by the 'year' column to order the leading roles by year\n",
    "cary_grant_leading_roles_1940s = cary_grant_leading_roles_1940s.sort_values(by='year')\n",
    "\n",
    "# Display the leading roles played by Cary Grant in the 1940s\n",
    "print(cary_grant_leading_roles_1940s[['year', 'character']])"
   ]
  },
  {
   "cell_type": "markdown",
   "id": "5f1e661e",
   "metadata": {},
   "source": [
    "# 26. How many roles were available for actors in the 1950s?"
   ]
  },
  {
   "cell_type": "code",
   "execution_count": 30,
   "id": "ccb98a52",
   "metadata": {},
   "outputs": [
    {
     "name": "stdout",
     "output_type": "stream",
     "text": [
      "Number of roles available for actors in the 1950s: 128233\n"
     ]
    }
   ],
   "source": [
    "roles_1950s = df[(df['year'] >= 1950) & (df['year'] <= 1959)]\n",
    "\n",
    "# Count the number of unique character roles available for actors in the 1950s\n",
    "number_of_roles_1950s = len(roles_1950s['character'].unique())\n",
    "\n",
    "print(\"Number of roles available for actors in the 1950s:\", number_of_roles_1950s)"
   ]
  },
  {
   "cell_type": "markdown",
   "id": "61a1e464",
   "metadata": {},
   "source": [
    "# 27. How many roles were available for actresses in the 1950s?"
   ]
  },
  {
   "cell_type": "code",
   "execution_count": 31,
   "id": "84bb590c",
   "metadata": {},
   "outputs": [
    {
     "name": "stdout",
     "output_type": "stream",
     "text": [
      "Number of roles available for actresses in the 1950s: 36266\n"
     ]
    }
   ],
   "source": [
    "actress_roles_1950s = df[(df['year'] >= 1950) & (df['year'] <= 1959) & (df['type'] == 'actress')]\n",
    "\n",
    "# Count the number of unique character roles available for actresses in the 1950s\n",
    "number_of_actress_roles_1950s = len(actress_roles_1950s['character'].unique())\n",
    "\n",
    "print(\"Number of roles available for actresses in the 1950s:\", number_of_actress_roles_1950s)"
   ]
  },
  {
   "cell_type": "markdown",
   "id": "f9eff9c7",
   "metadata": {},
   "source": [
    "# 28. How many leading roles (n=1) were available from the beginning of film history through 1980?"
   ]
  },
  {
   "cell_type": "code",
   "execution_count": 32,
   "id": "ffdf9150",
   "metadata": {},
   "outputs": [
    {
     "name": "stdout",
     "output_type": "stream",
     "text": [
      "Number of leading roles (n=1) available from the beginning of film history through 1980: 65140\n"
     ]
    }
   ],
   "source": [
    "leading_roles_until_1980 = df[(df['n'] == 1) & (df['year'] <= 1980)]\n",
    "\n",
    "# Count the number of leading roles (n=1) available from the beginning of film history through 1980\n",
    "number_of_leading_roles_until_1980 = len(leading_roles_until_1980)\n",
    "\n",
    "print(\"Number of leading roles (n=1) available from the beginning of film history through 1980:\", number_of_leading_roles_until_1980)"
   ]
  },
  {
   "cell_type": "markdown",
   "id": "7dc18a2b",
   "metadata": {},
   "source": [
    "# 29. How many non-leading roles were available through from the beginning of film history through 1980?"
   ]
  },
  {
   "cell_type": "code",
   "execution_count": 33,
   "id": "7afa5fc8",
   "metadata": {},
   "outputs": [
    {
     "name": "stdout",
     "output_type": "stream",
     "text": [
      "Number of non-leading roles (n is not equal to 1) available from the beginning of film history through 1980: 1117667\n"
     ]
    }
   ],
   "source": [
    "non_leading_roles_until_1980 = df[(df['n'] != 1) & (df['year'] <= 1980)]\n",
    "\n",
    "# Count the number of non-leading roles (n is not equal to 1) available from the beginning of film history through 1980\n",
    "number_of_non_leading_roles_until_1980 = len(non_leading_roles_until_1980)\n",
    "\n",
    "print(\"Number of non-leading roles (n is not equal to 1) available from the beginning of film history through 1980:\", number_of_non_leading_roles_until_1980)"
   ]
  },
  {
   "cell_type": "markdown",
   "id": "cdb1b834",
   "metadata": {},
   "source": [
    "# 30. How many roles through 1980 were minor enough that they did not warrant a numeric \"n\" rank?"
   ]
  },
  {
   "cell_type": "code",
   "execution_count": 34,
   "id": "f53f602f",
   "metadata": {},
   "outputs": [
    {
     "name": "stdout",
     "output_type": "stream",
     "text": [
      "Number of roles through 1980 that did not warrant a numeric 'n' rank: 448347\n"
     ]
    }
   ],
   "source": [
    "minor_roles_until_1980 = df[(pd.to_numeric(df['n'], errors='coerce').isna()) & (df['year'] <= 1980)]\n",
    "\n",
    "# Count the number of roles through 1980 that did not warrant a numeric \"n\" rank\n",
    "number_of_minor_roles_until_1980 = len(minor_roles_until_1980)\n",
    "\n",
    "print(\"Number of roles through 1980 that did not warrant a numeric 'n' rank:\", number_of_minor_roles_until_1980)"
   ]
  },
  {
   "cell_type": "code",
   "execution_count": null,
   "id": "78382e94",
   "metadata": {},
   "outputs": [],
   "source": []
  }
 ],
 "metadata": {
  "kernelspec": {
   "display_name": "Python 3 (ipykernel)",
   "language": "python",
   "name": "python3"
  },
  "language_info": {
   "codemirror_mode": {
    "name": "ipython",
    "version": 3
   },
   "file_extension": ".py",
   "mimetype": "text/x-python",
   "name": "python",
   "nbconvert_exporter": "python",
   "pygments_lexer": "ipython3",
   "version": "3.11.4"
  }
 },
 "nbformat": 4,
 "nbformat_minor": 5
}
