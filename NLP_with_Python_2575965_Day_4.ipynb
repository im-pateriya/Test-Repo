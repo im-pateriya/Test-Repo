{
 "cells": [
  {
   "cell_type": "markdown",
   "id": "e9c1bc7f",
   "metadata": {},
   "source": [
    "# Spell Checker using words, stopwords"
   ]
  },
  {
   "cell_type": "code",
   "execution_count": 15,
   "id": "0da5f963",
   "metadata": {},
   "outputs": [],
   "source": [
    "import nltk\n",
    "from nltk.corpus import words as nltk_words, stopwords\n",
    "from string import punctuation\n",
    "from nltk.metrics import edit_distance\n",
    "from nltk import WordNetLemmatizer"
   ]
  },
  {
   "cell_type": "code",
   "execution_count": null,
   "id": "0e9d27df",
   "metadata": {},
   "outputs": [],
   "source": []
  },
  {
   "cell_type": "code",
   "execution_count": 4,
   "id": "117793d7",
   "metadata": {},
   "outputs": [],
   "source": [
    "def fetch_valid_words():\n",
    "    \"\"\"Fetch a set of valid English words.\"\"\"\n",
    "    return set(nltk_words.words())"
   ]
  },
  {
   "cell_type": "code",
   "execution_count": 5,
   "id": "1c80087e",
   "metadata": {},
   "outputs": [],
   "source": [
    "def standardize_casing(term):\n",
    "    \"\"\"Standardize the casing of a term.\"\"\"\n",
    "    return term.lower()"
   ]
  },
  {
   "cell_type": "code",
   "execution_count": 6,
   "id": "88a007b7",
   "metadata": {},
   "outputs": [],
   "source": [
    "def create_unique_word_list(word_list):\n",
    "    \"\"\"Create a unique list from a list of words.\"\"\"\n",
    "    return list(set(word_list))"
   ]
  },
  {
   "cell_type": "code",
   "execution_count": 7,
   "id": "5a1592bd",
   "metadata": {},
   "outputs": [],
   "source": [
    "def obtain_stop_words():\n",
    "    \"\"\"Obtain a set of stop words.\"\"\"\n",
    "    nltk_stopwords = set(stopwords.words('english'))\n",
    "    punctuation_set = set(punctuation)\n",
    "    return nltk_stopwords | punctuation_set"
   ]
  },
  {
   "cell_type": "code",
   "execution_count": null,
   "id": "069e7c86",
   "metadata": {},
   "outputs": [],
   "source": []
  },
  {
   "cell_type": "code",
   "execution_count": 16,
   "id": "eff256be",
   "metadata": {},
   "outputs": [],
   "source": [
    "def find_correct_word(target_word, valid_words_set):\n",
    "    \"\"\"Find the correct word with the lowest edit distance.\"\"\"\n",
    "    lemmatizer = WordNetLemmatizer()\n",
    "    target_lemma = lemmatizer.lemmatize(target_word)\n",
    "    \n",
    "    valid_lemmas = {lemmatizer.lemmatize(word) for word in valid_words_set}\n",
    "    \n",
    "    if target_lemma in valid_lemmas:\n",
    "        return target_word\n",
    "\n",
    "    candidates = [(word, edit_distance(target_lemma, word)) for word in valid_lemmas]\n",
    "    sorted_candidates = sorted(candidates, key=lambda x: x[1])\n",
    "    \n",
    "    return sorted_candidates[0][0]"
   ]
  },
  {
   "cell_type": "code",
   "execution_count": 17,
   "id": "e7615be8",
   "metadata": {},
   "outputs": [],
   "source": [
    "def correct_word(word, valid_words_set, stop_words_set):\n",
    "    \"\"\"Correct a single word.\"\"\"\n",
    "    if word in valid_words_set:\n",
    "        return word\n",
    "    elif word not in stop_words_set:\n",
    "        return find_correct_word(word, valid_words_set)\n",
    "    else:\n",
    "        return word\n"
   ]
  },
  {
   "cell_type": "code",
   "execution_count": 18,
   "id": "7e905268",
   "metadata": {},
   "outputs": [],
   "source": [
    "def perform_spelling_correction(input_sentence, valid_words_set, stop_words_set):\n",
    "    \"\"\"Perform spelling correction in a sentence.\"\"\"\n",
    "    tokenized_sentence = [standardize_casing(word) for word in nltk.word_tokenize(input_sentence.lower())]\n",
    "    corrected_sentence = [correct_word(word, valid_words_set, stop_words_set) for word in tokenized_sentence]\n",
    "    return ' '.join(corrected_sentence)"
   ]
  },
  {
   "cell_type": "code",
   "execution_count": 19,
   "id": "6d338470",
   "metadata": {},
   "outputs": [],
   "source": [
    "english_words_set = fetch_valid_words()\n",
    "unique_normalized_words = create_unique_word_list([standardize_casing(word) for word in english_words_set])\n",
    "stop_words_collection = obtain_stop_words()"
   ]
  },
  {
   "cell_type": "code",
   "execution_count": 25,
   "id": "52e7d083",
   "metadata": {},
   "outputs": [
    {
     "name": "stdout",
     "output_type": "stream",
     "text": [
      "Input Text: I lve Python. It is an amzing language.\n",
      "Output Text: i love python . it is an amazing language .\n"
     ]
    }
   ],
   "source": [
    "\n",
    "input_text = \"I lve Python. It is an amzing language.\"\n",
    "output_text = perform_spelling_correction(input_text, english_words_set, stop_words_collection)\n",
    "print(\"Input Text:\", input_text)\n",
    "print(\"Output Text:\", output_text)"
   ]
  },
  {
   "cell_type": "code",
   "execution_count": null,
   "id": "fa5cfa75",
   "metadata": {},
   "outputs": [],
   "source": []
  }
 ],
 "metadata": {
  "kernelspec": {
   "display_name": "Python 3 (ipykernel)",
   "language": "python",
   "name": "python3"
  },
  "language_info": {
   "codemirror_mode": {
    "name": "ipython",
    "version": 3
   },
   "file_extension": ".py",
   "mimetype": "text/x-python",
   "name": "python",
   "nbconvert_exporter": "python",
   "pygments_lexer": "ipython3",
   "version": "3.11.4"
  }
 },
 "nbformat": 4,
 "nbformat_minor": 5
}
