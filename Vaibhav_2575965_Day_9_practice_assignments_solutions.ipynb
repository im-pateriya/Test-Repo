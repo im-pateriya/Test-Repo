{
 "cells": [
  {
   "cell_type": "code",
   "execution_count": null,
   "id": "0eb6ef53",
   "metadata": {},
   "outputs": [],
   "source": []
  },
  {
   "cell_type": "code",
   "execution_count": 2,
   "id": "7b8ccd07",
   "metadata": {},
   "outputs": [],
   "source": [
    "import numpy as np\n",
    "\n",
    "\n",
    "#Dataset\n",
    "np_olympic_country=np.array([ 'GBR', 'Chine', 'RUS', 'US', 'KOR', 'JPN', 'GER'])\n",
    "np_olympic_country_gold=np.array([29,38,24,46,13,7,11])\n",
    "np_olympic_country_silver=np.array([17,28,25,28,8,14,11]) \n",
    "np_olympic_country_Bronze=np.array([19,22,32,29,7,17,14])\n"
   ]
  },
  {
   "cell_type": "markdown",
   "id": "80125049",
   "metadata": {},
   "source": [
    "# 1.find the country index with maximum gold"
   ]
  },
  {
   "cell_type": "code",
   "execution_count": 5,
   "id": "11d1418c",
   "metadata": {},
   "outputs": [
    {
     "name": "stdout",
     "output_type": "stream",
     "text": [
      "Index of the country with the maximum gold medals: 3\n"
     ]
    }
   ],
   "source": [
    "max_gold_index = np.argmax(np_olympic_country_gold)\n",
    "\n",
    "# Find the country with the maximum gold medals\n",
    "country_with_max_gold = np_olympic_country[max_gold_index]\n",
    "\n",
    "print(\"Index of the country with the maximum gold medals:\", max_gold_index)"
   ]
  },
  {
   "cell_type": "markdown",
   "id": "6252fb7f",
   "metadata": {},
   "source": [
    "# 2. Print Country with Maximum gold"
   ]
  },
  {
   "cell_type": "code",
   "execution_count": 6,
   "id": "9ea00307",
   "metadata": {},
   "outputs": [
    {
     "name": "stdout",
     "output_type": "stream",
     "text": [
      "The country with the maximum gold medals is: US\n"
     ]
    }
   ],
   "source": [
    "print(\"The country with the maximum gold medals is:\", country_with_max_gold)"
   ]
  },
  {
   "cell_type": "markdown",
   "id": "ecafa802",
   "metadata": {},
   "source": [
    "# 3. Find countries with more than 20 gold medals"
   ]
  },
  {
   "cell_type": "code",
   "execution_count": 7,
   "id": "1c9bd30f",
   "metadata": {},
   "outputs": [
    {
     "name": "stdout",
     "output_type": "stream",
     "text": [
      "Countries with more than 20 gold medals: ['GBR' 'Chine' 'RUS' 'US']\n"
     ]
    }
   ],
   "source": [
    "countries_with_more_than_20_gold = np_olympic_country[np_olympic_country_gold > 20]\n",
    "\n",
    "print(\"Countries with more than 20 gold medals:\", countries_with_more_than_20_gold)"
   ]
  },
  {
   "cell_type": "markdown",
   "id": "1bdb4701",
   "metadata": {},
   "source": [
    "# 4. Evaluate the dataset and print the medal:\n",
    "1. print each country name with number of gold medals\n",
    "2. print each country name with total number of medals"
   ]
  },
  {
   "cell_type": "code",
   "execution_count": 9,
   "id": "c0fce88c",
   "metadata": {},
   "outputs": [
    {
     "name": "stdout",
     "output_type": "stream",
     "text": [
      "Country: GBR, Gold Medals: 29, Total Medals: 65\n",
      "Country: Chine, Gold Medals: 38, Total Medals: 88\n",
      "Country: RUS, Gold Medals: 24, Total Medals: 81\n",
      "Country: US, Gold Medals: 46, Total Medals: 103\n",
      "Country: KOR, Gold Medals: 13, Total Medals: 28\n",
      "Country: JPN, Gold Medals: 7, Total Medals: 38\n",
      "Country: GER, Gold Medals: 11, Total Medals: 36\n"
     ]
    }
   ],
   "source": [
    "total_medals = np_olympic_country_gold + np_olympic_country_silver + np_olympic_country_Bronze\n",
    "\n",
    "for i in range(len(np_olympic_country)):\n",
    "    country = np_olympic_country[i]\n",
    "    gold_medals = np_olympic_country_gold[i]\n",
    "    total = total_medals[i]\n",
    "    print(f\"Country: {country}, Gold Medals: {gold_medals}, Total Medals: {total}\")"
   ]
  },
  {
   "cell_type": "code",
   "execution_count": null,
   "id": "907fcaf3",
   "metadata": {},
   "outputs": [],
   "source": []
  },
  {
   "cell_type": "markdown",
   "id": "a43c058a",
   "metadata": {},
   "source": [
    "# 1. Create a 3x3x3 array with random values"
   ]
  },
  {
   "cell_type": "code",
   "execution_count": 11,
   "id": "9d637c7a",
   "metadata": {},
   "outputs": [
    {
     "name": "stdout",
     "output_type": "stream",
     "text": [
      "[[[0.62308796 0.13943331 0.55694291]\n",
      "  [0.35796393 0.42013232 0.60168373]\n",
      "  [0.97151217 0.95359749 0.41909693]]\n",
      "\n",
      " [[0.34523421 0.10327741 0.19167654]\n",
      "  [0.82345041 0.76584707 0.45872735]\n",
      "  [0.79088126 0.03639934 0.46418171]]\n",
      "\n",
      " [[0.14537172 0.62093959 0.72466029]\n",
      "  [0.93600868 0.90197481 0.64481877]\n",
      "  [0.79756638 0.28804259 0.05151478]]]\n"
     ]
    }
   ],
   "source": [
    "random_array = np.random.rand(3, 3, 3)\n",
    "\n",
    "print(random_array)"
   ]
  },
  {
   "cell_type": "markdown",
   "id": "d52e07f0",
   "metadata": {},
   "source": [
    "# 2.Create a 5x5 matrix with values 1,2,3,4 just below the diagonal"
   ]
  },
  {
   "cell_type": "code",
   "execution_count": 12,
   "id": "add91652",
   "metadata": {},
   "outputs": [
    {
     "name": "stdout",
     "output_type": "stream",
     "text": [
      "[[0 0 0 0 0]\n",
      " [1 0 0 0 0]\n",
      " [0 2 0 0 0]\n",
      " [0 0 3 0 0]\n",
      " [0 0 0 4 0]]\n"
     ]
    }
   ],
   "source": [
    "matrix = np.zeros((5, 5), dtype=int)\n",
    "\n",
    "# Set values 1, 2, 3, and 4 just below the diagonal\n",
    "for i in range(1, 5):\n",
    "    matrix[i, i - 1] = i\n",
    "\n",
    "print(matrix)"
   ]
  },
  {
   "cell_type": "markdown",
   "id": "f52375cb",
   "metadata": {},
   "source": [
    "# 3.Create a 8x8 matrix and fill it with a checkerboard pattern"
   ]
  },
  {
   "cell_type": "code",
   "execution_count": 13,
   "id": "806cd547",
   "metadata": {},
   "outputs": [
    {
     "name": "stdout",
     "output_type": "stream",
     "text": [
      "[[1 0 1 0 1 0 1 0]\n",
      " [0 1 0 1 0 1 0 1]\n",
      " [1 0 1 0 1 0 1 0]\n",
      " [0 1 0 1 0 1 0 1]\n",
      " [1 0 1 0 1 0 1 0]\n",
      " [0 1 0 1 0 1 0 1]\n",
      " [1 0 1 0 1 0 1 0]\n",
      " [0 1 0 1 0 1 0 1]]\n"
     ]
    }
   ],
   "source": [
    "checkerboard = np.zeros((8, 8), dtype=int)\n",
    "\n",
    "# Set every other element (even rows and columns) to 1\n",
    "checkerboard[::2, ::2] = 1  # Even rows and even columns\n",
    "checkerboard[1::2, 1::2] = 1  # Odd rows and odd columns\n",
    "\n",
    "print(checkerboard)"
   ]
  },
  {
   "cell_type": "markdown",
   "id": "2890c927",
   "metadata": {},
   "source": [
    "# 4. Normalize a 5x5 random matrix"
   ]
  },
  {
   "cell_type": "code",
   "execution_count": 14,
   "id": "c9fb4c5d",
   "metadata": {},
   "outputs": [
    {
     "name": "stdout",
     "output_type": "stream",
     "text": [
      "Original Random Matrix:\n",
      "[[0.02794823 0.24406509 0.42886658 0.094665   0.01898499]\n",
      " [0.90544831 0.30589867 0.79367495 0.14250716 0.45941695]\n",
      " [0.85235365 0.62609587 0.69326722 0.2868567  0.9257869 ]\n",
      " [0.23934562 0.3249822  0.5788042  0.95327015 0.97917556]\n",
      " [0.81509878 0.27500367 0.69989031 0.7076251  0.93983336]]\n",
      "\n",
      "Normalized Matrix:\n",
      "[[0.00933486 0.23441191 0.42687525 0.0788177  0.        ]\n",
      " [0.92321602 0.2988091  0.80680855 0.12864339 0.45869224]\n",
      " [0.86792007 0.63228166 0.70223793 0.27897766 0.94439785]\n",
      " [0.22949677 0.31868383 0.58302927 0.97302056 1.        ]\n",
      " [0.82912061 0.2666332  0.7091356  0.71719108 0.95902668]]\n"
     ]
    }
   ],
   "source": [
    "random_matrix = np.random.rand(5, 5)\n",
    "\n",
    "# Normalize the matrix to have values between 0 and 1\n",
    "min_val = random_matrix.min()\n",
    "max_val = random_matrix.max()\n",
    "normalized_matrix = (random_matrix - min_val) / (max_val - min_val)\n",
    "\n",
    "print(\"Original Random Matrix:\")\n",
    "print(random_matrix)\n",
    "print(\"\\nNormalized Matrix:\")\n",
    "print(normalized_matrix)"
   ]
  },
  {
   "cell_type": "markdown",
   "id": "7e59a2ce",
   "metadata": {},
   "source": [
    "# 5. How to find common values between two arrays?"
   ]
  },
  {
   "cell_type": "code",
   "execution_count": 15,
   "id": "5bd3cf73",
   "metadata": {},
   "outputs": [
    {
     "name": "stdout",
     "output_type": "stream",
     "text": [
      "[3 4 5]\n"
     ]
    }
   ],
   "source": [
    "array1 = np.array([1, 2, 3, 4, 5])\n",
    "array2 = np.array([3, 4, 5, 6, 7])\n",
    "\n",
    "common_values = np.intersect1d(array1, array2)\n",
    "\n",
    "print(common_values)"
   ]
  },
  {
   "cell_type": "markdown",
   "id": "231710cd",
   "metadata": {},
   "source": [
    "# 6.How to get the dates of yesterday, today and tomorrow?"
   ]
  },
  {
   "cell_type": "code",
   "execution_count": 16,
   "id": "6208ccf9",
   "metadata": {},
   "outputs": [
    {
     "name": "stdout",
     "output_type": "stream",
     "text": [
      "Yesterday: 2023-09-20\n",
      "Today: 2023-09-21\n",
      "Tomorrow: 2023-09-22\n"
     ]
    }
   ],
   "source": [
    "from datetime import datetime, timedelta\n",
    "\n",
    "# Get the current date (today)\n",
    "today = datetime.now().date()\n",
    "\n",
    "# Calculate the dates for yesterday and tomorrow\n",
    "yesterday = today - timedelta(days=1)\n",
    "tomorrow = today + timedelta(days=1)\n",
    "\n",
    "# Format the dates as strings\n",
    "today_str = today.strftime(\"%Y-%m-%d\")\n",
    "yesterday_str = yesterday.strftime(\"%Y-%m-%d\")\n",
    "tomorrow_str = tomorrow.strftime(\"%Y-%m-%d\")\n",
    "\n",
    "# Print the dates\n",
    "print(\"Yesterday:\", yesterday_str)\n",
    "print(\"Today:\", today_str)\n",
    "print(\"Tomorrow:\", tomorrow_str)\n"
   ]
  },
  {
   "cell_type": "markdown",
   "id": "12ebf1c3",
   "metadata": {},
   "source": [
    "# 7. Consider two random array A and B, check if they are equal"
   ]
  },
  {
   "cell_type": "code",
   "execution_count": 17,
   "id": "e5a74bb5",
   "metadata": {},
   "outputs": [
    {
     "name": "stdout",
     "output_type": "stream",
     "text": [
      "Arrays A and B are not equal.\n"
     ]
    }
   ],
   "source": [
    "A = np.random.rand(3, 3)\n",
    "B = np.random.rand(3, 3)\n",
    "\n",
    "# Check if the arrays A and B are equal\n",
    "are_equal = np.array_equal(A, B)\n",
    "\n",
    "if are_equal:\n",
    "    print(\"Arrays A and B are equal.\")\n",
    "else:\n",
    "    print(\"Arrays A and B are not equal.\")"
   ]
  },
  {
   "cell_type": "markdown",
   "id": "0cd44e80",
   "metadata": {},
   "source": [
    "# 8.Create random vector of size 10 and replace the maximum value by 0"
   ]
  },
  {
   "cell_type": "code",
   "execution_count": 18,
   "id": "933f0724",
   "metadata": {},
   "outputs": [
    {
     "name": "stdout",
     "output_type": "stream",
     "text": [
      "Random Vector with Maximum Value Replaced:\n",
      "[0.76156187 0.30929224 0.9738237  0.         0.14200735 0.93101534\n",
      " 0.05401913 0.15873555 0.51180373 0.4342875 ]\n"
     ]
    }
   ],
   "source": [
    "# Create a random vector of size 10\n",
    "random_vector = np.random.rand(10)\n",
    "\n",
    "# Find the index of the maximum value in the vector\n",
    "max_index = np.argmax(random_vector)\n",
    "\n",
    "# Replace the maximum value with 0\n",
    "random_vector[max_index] = 0\n",
    "\n",
    "print(\"Random Vector with Maximum Value Replaced:\")\n",
    "print(random_vector)\n"
   ]
  },
  {
   "cell_type": "markdown",
   "id": "5bfc4de3",
   "metadata": {},
   "source": [
    "# 9. How to print all the values of an array?"
   ]
  },
  {
   "cell_type": "code",
   "execution_count": 19,
   "id": "c025167e",
   "metadata": {},
   "outputs": [
    {
     "name": "stdout",
     "output_type": "stream",
     "text": [
      "1\n",
      "2\n",
      "3\n",
      "4\n",
      "5\n",
      "1\n",
      "2\n",
      "3\n",
      "4\n",
      "5\n"
     ]
    }
   ],
   "source": [
    "my_array = np.array([1, 2, 3, 4, 5])\n",
    "\n",
    "# Using a loop to iterate through the array elements\n",
    "for value in my_array:\n",
    "    print(value)\n",
    "\n",
    "# Using numpy.nditer to iterate through the array elements\n",
    "for value in np.nditer(my_array):\n",
    "    print(value)"
   ]
  },
  {
   "cell_type": "markdown",
   "id": "189f03f7",
   "metadata": {},
   "source": [
    "# 10.Subtract the mean of each row of a matrix"
   ]
  },
  {
   "cell_type": "code",
   "execution_count": 20,
   "id": "958c7443",
   "metadata": {},
   "outputs": [
    {
     "name": "stdout",
     "output_type": "stream",
     "text": [
      "Original Matrix:\n",
      "[[0.54203332 0.65410975 0.11684546 0.19134041 0.00196833]\n",
      " [0.93083248 0.88195226 0.49941759 0.67743799 0.95278586]\n",
      " [0.27261191 0.70330494 0.25981242 0.63171497 0.10782144]\n",
      " [0.18418106 0.73692412 0.1655653  0.10489987 0.37404216]]\n",
      "\n",
      "Matrix with Row Means Subtracted:\n",
      "[[ 0.24077386  0.35285029 -0.18441399 -0.10991904 -0.29929112]\n",
      " [ 0.14234724  0.09346702 -0.28906764 -0.11104724  0.16430063]\n",
      " [-0.12244122  0.3082518  -0.13524071  0.23666183 -0.2872317 ]\n",
      " [-0.12894144  0.42380162 -0.1475572  -0.20822263  0.06091966]]\n"
     ]
    }
   ],
   "source": [
    "matrix = np.random.rand(4, 5)\n",
    "\n",
    "# Calculate the mean of each row\n",
    "row_means = np.mean(matrix, axis=1, keepdims=True)\n",
    "\n",
    "# Subtract the row means from the original matrix\n",
    "matrix_minus_means = matrix - row_means\n",
    "\n",
    "print(\"Original Matrix:\")\n",
    "print(matrix)\n",
    "print(\"\\nMatrix with Row Means Subtracted:\")\n",
    "print(matrix_minus_means)"
   ]
  },
  {
   "cell_type": "markdown",
   "id": "1f5372c0",
   "metadata": {},
   "source": [
    "# 11.Consider a given vector, how to add 1 to each element indexed by a second vector (be careful with repeated indices)?"
   ]
  },
  {
   "cell_type": "code",
   "execution_count": 21,
   "id": "5c17c122",
   "metadata": {},
   "outputs": [
    {
     "name": "stdout",
     "output_type": "stream",
     "text": [
      "Original Vector:\n",
      "[1 3 3 5 6]\n"
     ]
    }
   ],
   "source": [
    "vector = np.array([1, 2, 3, 4, 5])\n",
    "\n",
    "# Second vector with indices (assuming indices are valid and within the vector's range)\n",
    "indices = np.array([1, 3, 4])\n",
    "\n",
    "# Create a mask to identify unique indices\n",
    "unique_indices = np.unique(indices)\n",
    "\n",
    "# Add 1 to the elements at unique indices\n",
    "vector[unique_indices] += 1\n",
    "\n",
    "print(\"Original Vector:\")\n",
    "print(vector)\n"
   ]
  },
  {
   "cell_type": "markdown",
   "id": "1aeddb2a",
   "metadata": {},
   "source": [
    "# 12.How to get the diagonal of a dot product?"
   ]
  },
  {
   "cell_type": "code",
   "execution_count": 22,
   "id": "9309bee5",
   "metadata": {},
   "outputs": [
    {
     "name": "stdout",
     "output_type": "stream",
     "text": [
      "Original Dot Product Matrix:\n",
      "[[ 30  24  18]\n",
      " [ 84  69  54]\n",
      " [138 114  90]]\n",
      "\n",
      "Diagonal of the Dot Product:\n",
      "[30 69 90]\n"
     ]
    }
   ],
   "source": [
    "matrix_A = np.array([[1, 2, 3],\n",
    "                     [4, 5, 6],\n",
    "                     [7, 8, 9]])\n",
    "\n",
    "matrix_B = np.array([[9, 8, 7],\n",
    "                     [6, 5, 4],\n",
    "                     [3, 2, 1]])\n",
    "\n",
    "# Compute the dot product of the two matrices\n",
    "dot_product = np.dot(matrix_A, matrix_B)\n",
    "\n",
    "# Extract the diagonal elements from the dot product\n",
    "diagonal = np.diag(dot_product)\n",
    "\n",
    "print(\"Original Dot Product Matrix:\")\n",
    "print(dot_product)\n",
    "print(\"\\nDiagonal of the Dot Product:\")\n",
    "print(diagonal)"
   ]
  },
  {
   "cell_type": "markdown",
   "id": "31ce780e",
   "metadata": {},
   "source": [
    "# 13.How to find the most frequent value in an array?\n",
    "\n",
    "np.random.randint(0,10,50)"
   ]
  },
  {
   "cell_type": "code",
   "execution_count": 24,
   "id": "c3860d0e",
   "metadata": {},
   "outputs": [
    {
     "name": "stdout",
     "output_type": "stream",
     "text": [
      "Most frequent value: 9\n"
     ]
    }
   ],
   "source": [
    "np.random.randint(0,10,50)\n",
    "my_array = np.array([2, 9, 5, 6, 5, 9, 5, 8, 9, 2, 6, 1, 8, 6, 4, 4, 8, 4, 4, 8, 2, 2,\n",
    "                     5, 9, 6, 6, 1, 0, 6, 1, 8, 4, 4, 9, 5, 9, 9, 2, 4, 5, 0, 6, 5, 2,\n",
    "                     8, 2, 1, 9, 0, 0])\n",
    "\n",
    "# Use NumPy to find the most frequent value\n",
    "most_common_value = np.bincount(my_array).argmax()\n",
    "\n",
    "print(\"Most frequent value:\", most_common_value)"
   ]
  },
  {
   "cell_type": "markdown",
   "id": "384948af",
   "metadata": {},
   "source": [
    "# 14.How to get the n largest values of an array"
   ]
  },
  {
   "cell_type": "code",
   "execution_count": 3,
   "id": "9d3d1faa",
   "metadata": {},
   "outputs": [
    {
     "name": "stdout",
     "output_type": "stream",
     "text": [
      "[7 9 8]\n"
     ]
    }
   ],
   "source": [
    "arr = np.array([4, 2, 9, 7, 5, 1, 8])\n",
    "n = 3\n",
    "\n",
    "largest_values = np.partition(arr, -n)[-n:]\n",
    "print(largest_values)"
   ]
  },
  {
   "cell_type": "markdown",
   "id": "c3076ff8",
   "metadata": {},
   "source": [
    "# 15.How to create a record array from a regular array?"
   ]
  },
  {
   "cell_type": "code",
   "execution_count": 5,
   "id": "e99917c7",
   "metadata": {},
   "outputs": [
    {
     "name": "stdout",
     "output_type": "stream",
     "text": [
      "['Jay' 'Vaibhav' 'Chiraj']\n",
      "[23 24 28]\n",
      "[5.6 6.  5.9]\n"
     ]
    }
   ],
   "source": [
    "regular_array = np.array([(\"Jay\", 23, 5.6), (\"Vaibhav\", 24, 6.0), (\"Chiraj\", 28, 5.9)], dtype=object)\n",
    "\n",
    "dtype = np.dtype([('name', 'U10'), ('age', int), ('height', float)])\n",
    "\n",
    "record_array = np.array([tuple(row) for row in regular_array], dtype=dtype)\n",
    "\n",
    "print(record_array['name'])\n",
    "print(record_array['age'])\n",
    "print(record_array['height'])"
   ]
  },
  {
   "cell_type": "markdown",
   "id": "c77a51b8",
   "metadata": {},
   "source": [
    "# 16. How to swap two rows of an array?"
   ]
  },
  {
   "cell_type": "code",
   "execution_count": 6,
   "id": "38a1b80e",
   "metadata": {},
   "outputs": [
    {
     "name": "stdout",
     "output_type": "stream",
     "text": [
      "[[7 8 9]\n",
      " [4 5 6]\n",
      " [7 8 9]]\n"
     ]
    }
   ],
   "source": [
    "array = np.array([[1, 2, 3],\n",
    "                  [4, 5, 6],\n",
    "                  [7, 8, 9]])\n",
    "\n",
    "\n",
    "row1_index = 0 \n",
    "row2_index = 2  \n",
    "\n",
    "# Swap the rows\n",
    "array[row1_index], array[row2_index] = array[row2_index], array[row1_index]\n",
    "\n",
    "print(array)"
   ]
  },
  {
   "cell_type": "markdown",
   "id": "783f877e",
   "metadata": {},
   "source": [
    "# 17. Write python code to reshape to the next dimension of numpy array?\n",
    "\n",
    "np.array([[23,34,121],[23,22,67],[686,434,123]])\n",
    "x\n",
    "\n",
    "array([[ 23, 14, 121],\n",
    "       [23, 22, 67],\n",
    "       [686, 434, 123]])"
   ]
  },
  {
   "cell_type": "code",
   "execution_count": 7,
   "id": "e88d541a",
   "metadata": {},
   "outputs": [
    {
     "name": "stdout",
     "output_type": "stream",
     "text": [
      "[[  23   34  178]\n",
      " [  23   22  112]\n",
      " [1243  434  123]]\n"
     ]
    }
   ],
   "source": [
    "x = np.array([[23, 34, 121],\n",
    "              [23, 22, 67],\n",
    "              [686, 434, 123]])\n",
    "\n",
    "row_sums = np.sum(x, axis=1)\n",
    "\n",
    "reshaped_x = np.copy(x) \n",
    "reshaped_x[np.arange(len(x)), np.argmax(x, axis=1)] = row_sums\n",
    "\n",
    "print(reshaped_x)"
   ]
  }
 ],
 "metadata": {
  "kernelspec": {
   "display_name": "Python 3 (ipykernel)",
   "language": "python",
   "name": "python3"
  },
  "language_info": {
   "codemirror_mode": {
    "name": "ipython",
    "version": 3
   },
   "file_extension": ".py",
   "mimetype": "text/x-python",
   "name": "python",
   "nbconvert_exporter": "python",
   "pygments_lexer": "ipython3",
   "version": "3.11.4"
  }
 },
 "nbformat": 4,
 "nbformat_minor": 5
}
