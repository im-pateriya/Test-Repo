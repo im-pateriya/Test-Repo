{
 "cells": [
  {
   "cell_type": "markdown",
   "id": "01e7ec45",
   "metadata": {},
   "source": [
    "# Exceptions and Command-Line Arguments"
   ]
  },
  {
   "cell_type": "markdown",
   "id": "cd4f13ce",
   "metadata": {},
   "source": [
    "# 1. Write a python program with Exception handling to input marks for five subjects Physics, Chemistry, Biology, Mathematics, and Computer. Calculate the percentage and grade according to the following:\n",
    "\n",
    "i) Percentage >= 90% : Grade A\n",
    "\n",
    "ii) Percentage >= 80%: Grade B\n",
    "\n",
    "iii) Percentage >= 70%: Grade C\n",
    "\n",
    "iv) Percentage >= 60% : Grade D\n",
    "\n",
    "v) Percentage >= 40% : Grade E\n",
    "\n",
    "vi) Percentage < 40%: Grade F"
   ]
  },
  {
   "cell_type": "code",
   "execution_count": 4,
   "id": "fd89913c",
   "metadata": {},
   "outputs": [
    {
     "name": "stdout",
     "output_type": "stream",
     "text": [
      "Enter Physics marks: 85\n",
      "Enter Chemistry marks: 65\n",
      "Enter Biology marks: 78\n",
      "Enter Mathematics marks: 96\n",
      "Enter Computer marks: 88\n",
      "Total Marks: 412.0\n",
      "Percentage: 82.40%\n",
      "Grade: B\n"
     ]
    }
   ],
   "source": [
    "try:\n",
    "    # Initialize maximum marks\n",
    "    max_marks = 100\n",
    "\n",
    "    # Input marks for five subjects\n",
    "    physics = float(input(\"Enter Physics marks: \"))\n",
    "    if physics > max_marks:\n",
    "        raise ValueError(\"Physics marks cannot be more than 100\")\n",
    "\n",
    "    chemistry = float(input(\"Enter Chemistry marks: \"))\n",
    "    if chemistry > max_marks:\n",
    "        raise ValueError(\"Chemistry marks cannot be more than 100\")\n",
    "\n",
    "    biology = float(input(\"Enter Biology marks: \"))\n",
    "    if biology > max_marks:\n",
    "        raise ValueError(\"Biology marks cannot be more than 100\")\n",
    "\n",
    "    mathematics = float(input(\"Enter Mathematics marks: \"))\n",
    "    if mathematics > max_marks:\n",
    "        raise ValueError(\"Mathematics marks cannot be more than 100\")\n",
    "\n",
    "    computer = float(input(\"Enter Computer marks: \"))\n",
    "    if computer > max_marks:\n",
    "        raise ValueError(\"Computer marks cannot be more than 100\")\n",
    "\n",
    "    # Calculate the total marks\n",
    "    total_marks = physics + chemistry + biology + mathematics + computer\n",
    "\n",
    "    # Calculate the percentage\n",
    "    percentage = (total_marks / (5 * max_marks)) * 100\n",
    "\n",
    "    # Determine the grade based on the percentage\n",
    "    if percentage >= 90:\n",
    "        grade = \"A\"\n",
    "    elif percentage >= 80:\n",
    "        grade = \"B\"\n",
    "    elif percentage >= 70:\n",
    "        grade = \"C\"\n",
    "    elif percentage >= 60:\n",
    "        grade = \"D\"\n",
    "    elif percentage >= 40:\n",
    "        grade = \"E\"\n",
    "    else:\n",
    "        grade = \"F\"\n",
    "\n",
    "    # Display the result\n",
    "    print(f\"Total Marks: {total_marks}\")\n",
    "    print(f\"Percentage: {percentage:.2f}%\")\n",
    "    print(f\"Grade: {grade}\")\n",
    "\n",
    "except ValueError as ve:\n",
    "    print(f\"Invalid input: {ve}\")\n",
    "except Exception as e:\n",
    "    print(f\"An error occurred: {e}\")\n"
   ]
  },
  {
   "cell_type": "markdown",
   "id": "b94764ac",
   "metadata": {},
   "source": [
    "# 2. Write a python program with Exception handling to input electricity unit charges and calculate the total electricity bill according to the given condition:\n",
    "\n",
    "i) For the first 50 units Rs. 0.50/unit\n",
    "\n",
    "ii) For the next 100 units Rs. 0.75/unit\n",
    "\n",
    "iii) For the next 100 units Rs. 1.20/unit\n",
    "\n",
    "iv) For units above 250 Rs. 1.50/unit\n",
    "\n",
    "v) An additional surcharge of 20% is added to the bill."
   ]
  },
  {
   "cell_type": "code",
   "execution_count": 5,
   "id": "21b28d07",
   "metadata": {},
   "outputs": [
    {
     "name": "stdout",
     "output_type": "stream",
     "text": [
      "Enter electricity unit charges: 10\n",
      "Total Electricity Bill: Rs. 6.00\n"
     ]
    }
   ],
   "source": [
    "try:\n",
    "    # Input electricity unit charges\n",
    "    units = float(input(\"Enter electricity unit charges: \"))\n",
    "    \n",
    "    # Initialize variables for the total bill and surcharge rate\n",
    "    total_bill = 0.0\n",
    "    surcharge_rate = 0.20\n",
    "    \n",
    "    # Check for the first 50 units\n",
    "    if units <= 50:\n",
    "        total_bill = units * 0.50\n",
    "    else:\n",
    "        total_bill = 50 * 0.50\n",
    "        units -= 50\n",
    "        \n",
    "        # Check for the next 100 units\n",
    "        if units <= 100:\n",
    "            total_bill += units * 0.75\n",
    "        else:\n",
    "            total_bill += 100 * 0.75\n",
    "            units -= 100\n",
    "            \n",
    "            # Check for the next 100 units\n",
    "            if units <= 100:\n",
    "                total_bill += units * 1.20\n",
    "            else:\n",
    "                total_bill += 100 * 1.20\n",
    "                units -= 100\n",
    "                \n",
    "                # Calculate the remaining units at the rate of Rs. 1.50/unit\n",
    "                total_bill += units * 1.50\n",
    "    \n",
    "    # Add the surcharge\n",
    "    surcharge = total_bill * surcharge_rate\n",
    "    total_bill += surcharge\n",
    "    \n",
    "    # Display the total electricity bill\n",
    "    print(f\"Total Electricity Bill: Rs. {total_bill:.2f}\")\n",
    "    \n",
    "except ValueError:\n",
    "    print(\"Invalid input. Please enter valid unit charges as numbers.\")\n",
    "except Exception as e:\n",
    "    print(f\"An error occurred: {e}\")\n"
   ]
  },
  {
   "cell_type": "markdown",
   "id": "879e5887",
   "metadata": {},
   "source": [
    "# 3. Write a python program with Exception handling to input the week number and print the weekday."
   ]
  },
  {
   "cell_type": "code",
   "execution_count": 2,
   "id": "f4ae17b2",
   "metadata": {},
   "outputs": [
    {
     "name": "stdout",
     "output_type": "stream",
     "text": [
      "Enter a week number in the year: 38\n",
      "Monday\n",
      "Tuesday\n",
      "Wednesday\n",
      "Thursday\n",
      "Friday\n",
      "Saturday\n",
      "Sunday\n"
     ]
    }
   ],
   "source": [
    "\n",
    "import datetime\n",
    "\n",
    "try:\n",
    "    # Input week number\n",
    "    week_number = int(input(\"Enter a week number in the year: \"))\n",
    "\n",
    "    # Get the current year\n",
    "    current_year = datetime.datetime.now().year\n",
    "\n",
    "    # Check if the input week number is within the valid range (1-52)\n",
    "    if 1 <= week_number <= 52:\n",
    "        # Calculate the date for the first day of the specified week (Monday)\n",
    "        first_day_of_week = datetime.datetime.strptime(f\"{current_year}-W{week_number}-1\", \"%Y-W%U-%w\")\n",
    "        \n",
    "        # Print all the weekdays in sequence\n",
    "        for i in range(7):\n",
    "            weekday = first_day_of_week + datetime.timedelta(days=i)\n",
    "            print(weekday.strftime(\"%A\"))\n",
    "    else:\n",
    "        print(\"Week number is out of range. Please enter a week number between 1 and 52.\")\n",
    "    \n",
    "except ValueError:\n",
    "    print(\"Invalid input. Please enter a valid week number as an integer.\")\n",
    "except Exception as e:\n",
    "    print(f\"An error occurred: {e}\")\n",
    "\n"
   ]
  },
  {
   "cell_type": "code",
   "execution_count": null,
   "id": "d5809f7d",
   "metadata": {},
   "outputs": [],
   "source": []
  },
  {
   "cell_type": "markdown",
   "id": "d7ae8d74",
   "metadata": {},
   "source": [
    "# 4. Write a Python program to implement word count using command line arguments.\n",
    "\n",
    "i) Create a text document \"apple.txt\" whch contains text for wordcount.\n",
    "\n",
    "ii) Create a wordcount program which calls the \"apple.txt\" document by opening the file.\n",
    "\n",
    "iii) If the word is present again in the \"aaple.txt\",the wordcount is incremented by I until all the words are counted in the document.\n",
    "\n",
    "iv) Close the file.\n",
    "\n",
    "v) Create a command.py program which imports the wordcount.py program.\n",
    "\n",
    "vi) Count the number of words using command line arguments.\n",
    "\n",
    "vii) Print each word and its count."
   ]
  },
  {
   "cell_type": "code",
   "execution_count": 8,
   "id": "3519bf14",
   "metadata": {},
   "outputs": [
    {
     "name": "stdout",
     "output_type": "stream",
     "text": [
      "Usage: python wordcount.py <filename>\n"
     ]
    }
   ],
   "source": [
    "# wordcount.py\n",
    "filename = 'apple.txt'\n",
    "def count_words(filename):\n",
    "    try:\n",
    "        # Open the file for reading\n",
    "        with open(filename, 'r') as file:\n",
    "            text = file.read()\n",
    "        \n",
    "        # Split the text into words\n",
    "        words = text.split()\n",
    "        \n",
    "        # Create a dictionary to store word counts\n",
    "        word_count = {}\n",
    "        \n",
    "        # Count the words\n",
    "        for word in words:\n",
    "            word = word.lower()  # Convert to lowercase to ensure case-insensitive counting\n",
    "            if word in word_count:\n",
    "                word_count[word] += 1\n",
    "            else:\n",
    "                word_count[word] = 1\n",
    "        \n",
    "        return word_count\n",
    "    \n",
    "    except FileNotFoundError:\n",
    "        print(f\"Error: File '{filename}' not found.\")\n",
    "        return None\n",
    "    except Exception as e:\n",
    "        print(f\"An error occurred: {e}\")\n",
    "        return None\n",
    "\n",
    "if __name__ == \"__main__\":\n",
    "    import sys\n",
    "    \n",
    "    if len(sys.argv) != 2:\n",
    "        print(\"Usage: python wordcount.py <filename>\")\n",
    "    else:\n",
    "        filename = sys.argv[1]\n",
    "        word_count = count_words(filename)\n",
    "        \n",
    "        if word_count:\n",
    "            for word, count in word_count.items():\n",
    "                print(f\"{word}: {count}\")\n"
   ]
  },
  {
   "cell_type": "markdown",
   "id": "e18ebc00",
   "metadata": {},
   "source": [
    "# 5. Write a Python program for finding the most frequent words in a text read from a file.\n",
    "\n",
    "i) Initially open the text file in read mode.\n",
    "\n",
    "ii) Make all the letters in the document into lowercase letters and split the words in each line.\n",
    "\n",
    "iii) Get the words in an order.\n",
    "\n",
    "iv) Sort the words for finding the most frequent words in the file.\n",
    "\n",
    "v) Print the most frequent words in the file."
   ]
  },
  {
   "cell_type": "code",
   "execution_count": 4,
   "id": "7be1ab79",
   "metadata": {},
   "outputs": [
    {
     "name": "stdout",
     "output_type": "stream",
     "text": [
      "is: 3\n",
      "employee: 2\n",
      "to: 2\n",
      "hii,: 1\n",
      "this: 1\n",
      "from: 1\n",
      "company,: 1\n",
      "practicing: 1\n",
      "problems: 1\n",
      "for: 1\n"
     ]
    }
   ],
   "source": [
    "from collections import Counter\n",
    "\n",
    "try:\n",
    "    # Open the text file in read mode\n",
    "    with open(\"example.txt\", \"r\") as file:\n",
    "        # Read the content and split it into words\n",
    "        text = file.read()\n",
    "        words = text.lower().split()\n",
    "\n",
    "        # Count the occurrences of each word\n",
    "        word_counts = Counter(words)\n",
    "\n",
    "        # Sort the words by their frequencies (in descending order)\n",
    "        sorted_word_counts = sorted(word_counts.items(), key=lambda x: x[1], reverse=True)\n",
    "\n",
    "        # Print the most frequent words and their counts (you can change the number of words displayed)\n",
    "        num_words_to_display = 10\n",
    "        for word, count in sorted_word_counts[:num_words_to_display]:\n",
    "            print(f\"{word}: {count}\")\n",
    "\n",
    "except FileNotFoundError:\n",
    "    print(\"Error: The specified file was not found.\")\n",
    "except Exception as e:\n",
    "    print(f\"An error occurred: {e}\")\n"
   ]
  },
  {
   "cell_type": "markdown",
   "id": "f0525687",
   "metadata": {},
   "source": [
    "# 6. File Processing with Command-Line Arguments- Scenario: You are developing a command-line utility that processes text files. Users can specify input and output file paths as command-line arguments. Your program should handle exceptions gracefully.\n",
    "\n",
    "i. Design a Python program that takes two command-line arguments: the input file path and the output file path. Ensure that the program checks if both arguments are provided and that the input file exists.\n",
    "\n",
    "ii. Implement error handling to deal with scenarios such as missing input files, invalid file paths, or permission issues when writing to the output file.\n",
    "\n",
    "iii. If an error occurs during file processing, display a user-friendly error message, and exit the program with a non-zero exit code.\n",
    "\n",
    "iv. Write test cases that cover various scenarios, including providing valid and invalid file paths as command-line arguments"
   ]
  },
  {
   "cell_type": "code",
   "execution_count": null,
   "id": "11e760ae",
   "metadata": {},
   "outputs": [],
   "source": []
  },
  {
   "cell_type": "code",
   "execution_count": null,
   "id": "53e2cc57",
   "metadata": {},
   "outputs": [],
   "source": []
  }
 ],
 "metadata": {
  "kernelspec": {
   "display_name": "Python 3 (ipykernel)",
   "language": "python",
   "name": "python3"
  },
  "language_info": {
   "codemirror_mode": {
    "name": "ipython",
    "version": 3
   },
   "file_extension": ".py",
   "mimetype": "text/x-python",
   "name": "python",
   "nbconvert_exporter": "python",
   "pygments_lexer": "ipython3",
   "version": "3.11.4"
  }
 },
 "nbformat": 4,
 "nbformat_minor": 5
}
