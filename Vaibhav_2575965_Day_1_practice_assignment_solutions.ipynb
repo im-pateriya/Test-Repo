{
 "cells": [
  {
   "cell_type": "markdown",
   "id": "fd09a0c4",
   "metadata": {},
   "source": [
    "# 1. Manipulate using a list\n",
    "i) To add new elements to the end of the list\n",
    "ii) To reverse elements in the list\n",
    "iii) To display the same list of elements multiple times.\n",
    "iv) To concatenate two list\n",
    "v) To sort the elements in the list in ascending order."
   ]
  },
  {
   "cell_type": "code",
   "execution_count": 1,
   "id": "dc8e7be9",
   "metadata": {},
   "outputs": [],
   "source": [
    "#i) To add new elements to the end of the list\n",
    "List = ['Vaibhav ', 1, 2, 50.50]"
   ]
  },
  {
   "cell_type": "code",
   "execution_count": 11,
   "id": "5962763e",
   "metadata": {},
   "outputs": [
    {
     "data": {
      "text/plain": [
       "['Vaibhav', 1, 2, 50.5]"
      ]
     },
     "execution_count": 11,
     "metadata": {},
     "output_type": "execute_result"
    }
   ],
   "source": [
    "List"
   ]
  },
  {
   "cell_type": "code",
   "execution_count": 12,
   "id": "7ed554e7",
   "metadata": {},
   "outputs": [],
   "source": [
    "#ii) To reverse elements in the list\n",
    "List.reverse()"
   ]
  },
  {
   "cell_type": "code",
   "execution_count": 13,
   "id": "5f2a8cbc",
   "metadata": {},
   "outputs": [
    {
     "data": {
      "text/plain": [
       "[50.5, 2, 1, 'Vaibhav']"
      ]
     },
     "execution_count": 13,
     "metadata": {},
     "output_type": "execute_result"
    }
   ],
   "source": [
    "List"
   ]
  },
  {
   "cell_type": "code",
   "execution_count": null,
   "id": "6acc2d2d",
   "metadata": {},
   "outputs": [],
   "source": []
  },
  {
   "cell_type": "code",
   "execution_count": 14,
   "id": "f4235a41",
   "metadata": {},
   "outputs": [
    {
     "data": {
      "text/plain": [
       "[50.5,\n",
       " 2,\n",
       " 1,\n",
       " 'Vaibhav',\n",
       " 50.5,\n",
       " 2,\n",
       " 1,\n",
       " 'Vaibhav',\n",
       " 50.5,\n",
       " 2,\n",
       " 1,\n",
       " 'Vaibhav',\n",
       " 50.5,\n",
       " 2,\n",
       " 1,\n",
       " 'Vaibhav',\n",
       " 50.5,\n",
       " 2,\n",
       " 1,\n",
       " 'Vaibhav',\n",
       " 50.5,\n",
       " 2,\n",
       " 1,\n",
       " 'Vaibhav',\n",
       " 50.5,\n",
       " 2,\n",
       " 1,\n",
       " 'Vaibhav',\n",
       " 50.5,\n",
       " 2,\n",
       " 1,\n",
       " 'Vaibhav',\n",
       " 50.5,\n",
       " 2,\n",
       " 1,\n",
       " 'Vaibhav',\n",
       " 50.5,\n",
       " 2,\n",
       " 1,\n",
       " 'Vaibhav']"
      ]
     },
     "execution_count": 14,
     "metadata": {},
     "output_type": "execute_result"
    }
   ],
   "source": [
    "#iii) To display the same list of elements multiple times.\n",
    "List*10"
   ]
  },
  {
   "cell_type": "code",
   "execution_count": 16,
   "id": "e807d364",
   "metadata": {},
   "outputs": [
    {
     "data": {
      "text/plain": [
       "['Vaibhav', 'pateriya', 'is', 'a', 'employee']"
      ]
     },
     "execution_count": 16,
     "metadata": {},
     "output_type": "execute_result"
    }
   ],
   "source": [
    "#iv) To concatenate two list\n",
    "List1 = ['Vaibhav', 'pateriya']\n",
    "List2 = ['is','a','employee', ]\n",
    "concat_list = List1 + List2\n",
    "concat_list"
   ]
  },
  {
   "cell_type": "code",
   "execution_count": 19,
   "id": "b479228e",
   "metadata": {},
   "outputs": [
    {
     "data": {
      "text/plain": [
       "[22, 25, 45, 664, 789]"
      ]
     },
     "execution_count": 19,
     "metadata": {},
     "output_type": "execute_result"
    }
   ],
   "source": [
    "#v) To sort the elements in the list in ascending order.\n",
    "List3 = [25, 45,664,789,22]\n",
    "List3.sort()\n",
    "List3"
   ]
  },
  {
   "cell_type": "markdown",
   "id": "8f5b2459",
   "metadata": {},
   "source": [
    "# 2. Write a Python program to do in the tuples.\n",
    "i)Manipulate using tuples.\n",
    "ii)To add new elements to the end of the tuples\n",
    "iii)To reverse elements in the list\n",
    "iv)To display the elements of the same tuple \n",
    "v)To concatenate two tuples\n",
    "vi)To sort the elements in the list in ascending order."
   ]
  },
  {
   "cell_type": "code",
   "execution_count": 23,
   "id": "9f02cb64",
   "metadata": {},
   "outputs": [
    {
     "ename": "AttributeError",
     "evalue": "'tuple' object has no attribute 'append'",
     "output_type": "error",
     "traceback": [
      "\u001b[1;31m---------------------------------------------------------------------------\u001b[0m",
      "\u001b[1;31mAttributeError\u001b[0m                            Traceback (most recent call last)",
      "Cell \u001b[1;32mIn[23], line 3\u001b[0m\n\u001b[0;32m      1\u001b[0m \u001b[38;5;66;03m#i) Manipulate using tuples.\u001b[39;00m\n\u001b[0;32m      2\u001b[0m tuple1 \u001b[38;5;241m=\u001b[39m (\u001b[38;5;241m1\u001b[39m,\u001b[38;5;241m5\u001b[39m,\u001b[38;5;241m10\u001b[39m,\u001b[38;5;124m'\u001b[39m\u001b[38;5;124mVaibhav\u001b[39m\u001b[38;5;124m'\u001b[39m,\u001b[38;5;124m'\u001b[39m\u001b[38;5;124mCricket\u001b[39m\u001b[38;5;124m'\u001b[39m)\n\u001b[1;32m----> 3\u001b[0m tuple1\u001b[38;5;241m.\u001b[39mappend(\u001b[38;5;241m5\u001b[39m)\n",
      "\u001b[1;31mAttributeError\u001b[0m: 'tuple' object has no attribute 'append'"
     ]
    }
   ],
   "source": [
    "#i) Manipulate using tuples.\n",
    "tuple1 = (1,5,10,'Vaibhav','Cricket')\n",
    "tuple1.append(5)\n",
    "# we cannot manipulate tuple."
   ]
  },
  {
   "cell_type": "code",
   "execution_count": 25,
   "id": "c6cc9035",
   "metadata": {},
   "outputs": [
    {
     "ename": "AttributeError",
     "evalue": "'tuple' object has no attribute 'append'",
     "output_type": "error",
     "traceback": [
      "\u001b[1;31m---------------------------------------------------------------------------\u001b[0m",
      "\u001b[1;31mAttributeError\u001b[0m                            Traceback (most recent call last)",
      "Cell \u001b[1;32mIn[25], line 2\u001b[0m\n\u001b[0;32m      1\u001b[0m \u001b[38;5;66;03m#ii) To add new elements to the end of the tuples\u001b[39;00m\n\u001b[1;32m----> 2\u001b[0m tuple1\u001b[38;5;241m.\u001b[39mappend(\u001b[38;5;241m5\u001b[39m)\n",
      "\u001b[1;31mAttributeError\u001b[0m: 'tuple' object has no attribute 'append'"
     ]
    }
   ],
   "source": [
    "#ii) To add new elements to the end of the tuples\n",
    "tuple1.append(5)\n",
    "#we cannot add elements in tuple."
   ]
  },
  {
   "cell_type": "code",
   "execution_count": 26,
   "id": "eafef887",
   "metadata": {},
   "outputs": [
    {
     "ename": "AttributeError",
     "evalue": "'tuple' object has no attribute 'reverse'",
     "output_type": "error",
     "traceback": [
      "\u001b[1;31m---------------------------------------------------------------------------\u001b[0m",
      "\u001b[1;31mAttributeError\u001b[0m                            Traceback (most recent call last)",
      "Cell \u001b[1;32mIn[26], line 2\u001b[0m\n\u001b[0;32m      1\u001b[0m \u001b[38;5;66;03m#iii) To reverse elements in the list\u001b[39;00m\n\u001b[1;32m----> 2\u001b[0m tuple1\u001b[38;5;241m.\u001b[39mreverse()\n\u001b[0;32m      3\u001b[0m tuple1\n",
      "\u001b[1;31mAttributeError\u001b[0m: 'tuple' object has no attribute 'reverse'"
     ]
    }
   ],
   "source": [
    "#iii) To reverse elements in the list\n",
    "tuple1.reverse()\n",
    "tuple1"
   ]
  },
  {
   "cell_type": "code",
   "execution_count": 30,
   "id": "809d6bf7",
   "metadata": {},
   "outputs": [
    {
     "data": {
      "text/plain": [
       "'Vaibhav'"
      ]
     },
     "execution_count": 30,
     "metadata": {},
     "output_type": "execute_result"
    }
   ],
   "source": [
    "#iv) To display the elements of the same tuple\n",
    "tuple1[3]"
   ]
  },
  {
   "cell_type": "code",
   "execution_count": 31,
   "id": "3264fcb1",
   "metadata": {},
   "outputs": [
    {
     "data": {
      "text/plain": [
       "5"
      ]
     },
     "execution_count": 31,
     "metadata": {},
     "output_type": "execute_result"
    }
   ],
   "source": [
    "tuple1[1]"
   ]
  },
  {
   "cell_type": "code",
   "execution_count": 33,
   "id": "f13d7b8a",
   "metadata": {},
   "outputs": [
    {
     "data": {
      "text/plain": [
       "(17, 27, 19, 23, 21, 22)"
      ]
     },
     "execution_count": 33,
     "metadata": {},
     "output_type": "execute_result"
    }
   ],
   "source": [
    "#v) To concatenate two tuples\n",
    "tup1 = (17,27,19)\n",
    "tup2 = (23,21,22)\n",
    "concat_tup = tup1 + tup2\n",
    "concat_tup"
   ]
  },
  {
   "cell_type": "code",
   "execution_count": 34,
   "id": "5e753c2e",
   "metadata": {},
   "outputs": [
    {
     "ename": "AttributeError",
     "evalue": "'tuple' object has no attribute 'sort'",
     "output_type": "error",
     "traceback": [
      "\u001b[1;31m---------------------------------------------------------------------------\u001b[0m",
      "\u001b[1;31mAttributeError\u001b[0m                            Traceback (most recent call last)",
      "Cell \u001b[1;32mIn[34], line 2\u001b[0m\n\u001b[0;32m      1\u001b[0m \u001b[38;5;66;03m#vi) To sort the elements in the list in ascending order.\u001b[39;00m\n\u001b[1;32m----> 2\u001b[0m concat_tup\u001b[38;5;241m.\u001b[39msort()\n\u001b[0;32m      3\u001b[0m concat_tup\n",
      "\u001b[1;31mAttributeError\u001b[0m: 'tuple' object has no attribute 'sort'"
     ]
    }
   ],
   "source": [
    "#vi) To sort the elements in the list in ascending order.\n",
    "concat_tup.sort()\n",
    "concat_tup"
   ]
  },
  {
   "cell_type": "markdown",
   "id": "9bf24279",
   "metadata": {},
   "source": [
    "# 3. Write a python program to implement the following using list.\n",
    "i) Create a list with integers (minimum 10 numbers)\n",
    "ii) How to display the last number in the list.\n",
    "iii) Command for displaying the values from the list[0:4]\n",
    "iv) Command for displaying the values from the list [2:]\n",
    "v) Command for displaying the values from the list [:6]"
   ]
  },
  {
   "cell_type": "code",
   "execution_count": 35,
   "id": "04b82995",
   "metadata": {},
   "outputs": [
    {
     "data": {
      "text/plain": [
       "[11, 23, 55, 6, 78, 4, 39, 33, 56, 10]"
      ]
     },
     "execution_count": 35,
     "metadata": {},
     "output_type": "execute_result"
    }
   ],
   "source": [
    "#i) Create a list with integers (minimum 10 numbers)\n",
    "list10 = [11,23,55,6,78,4,39,33,56,10]\n",
    "list10"
   ]
  },
  {
   "cell_type": "code",
   "execution_count": 36,
   "id": "b894e8d1",
   "metadata": {},
   "outputs": [
    {
     "data": {
      "text/plain": [
       "10"
      ]
     },
     "execution_count": 36,
     "metadata": {},
     "output_type": "execute_result"
    }
   ],
   "source": [
    "#ii) How to display the last number in the list.\n",
    "list10[9]"
   ]
  },
  {
   "cell_type": "code",
   "execution_count": 38,
   "id": "a4fb3ef2",
   "metadata": {},
   "outputs": [
    {
     "data": {
      "text/plain": [
       "[11, 23, 55, 6]"
      ]
     },
     "execution_count": 38,
     "metadata": {},
     "output_type": "execute_result"
    }
   ],
   "source": [
    "#iii) Command for displaying the values from the list[0:4]\n",
    "list10[0:4]"
   ]
  },
  {
   "cell_type": "code",
   "execution_count": 39,
   "id": "fe5732b4",
   "metadata": {},
   "outputs": [
    {
     "data": {
      "text/plain": [
       "[55, 6, 78, 4, 39, 33, 56, 10]"
      ]
     },
     "execution_count": 39,
     "metadata": {},
     "output_type": "execute_result"
    }
   ],
   "source": [
    "#iv) Command for displaying the values from the list [2:]\n",
    "list10[2:]"
   ]
  },
  {
   "cell_type": "code",
   "execution_count": 40,
   "id": "3cea70c2",
   "metadata": {},
   "outputs": [
    {
     "data": {
      "text/plain": [
       "[11, 23, 55, 6, 78, 4]"
      ]
     },
     "execution_count": 40,
     "metadata": {},
     "output_type": "execute_result"
    }
   ],
   "source": [
    "#v) Command for displaying the values from the list [:6]\n",
    "list10[:6]"
   ]
  },
  {
   "cell_type": "markdown",
   "id": "0e13c6cc",
   "metadata": {},
   "source": [
    "# 4. Write a Python program: tuple1 = (10,50,20,40,30)\n",
    "i) To display the elements 10 and 50 from tuple1.\n",
    "ii) To display the length of a tuple1.\n",
    "iii) To find the minimum element from tuple1.\n",
    "iv) To add all elements in the tuple1.\n",
    "v) To display the same tuple1 multiple times."
   ]
  },
  {
   "cell_type": "code",
   "execution_count": 41,
   "id": "fce49573",
   "metadata": {},
   "outputs": [
    {
     "data": {
      "text/plain": [
       "(10, 50)"
      ]
     },
     "execution_count": 41,
     "metadata": {},
     "output_type": "execute_result"
    }
   ],
   "source": [
    "#i) To display the elements 10 and 50 from tuple1.\n",
    "tuple1 = (10, 50, 20, 40, 30)\n",
    "tuple1[0], tuple1[1]"
   ]
  },
  {
   "cell_type": "code",
   "execution_count": 42,
   "id": "57c1235b",
   "metadata": {},
   "outputs": [
    {
     "data": {
      "text/plain": [
       "5"
      ]
     },
     "execution_count": 42,
     "metadata": {},
     "output_type": "execute_result"
    }
   ],
   "source": [
    "#ii) To display the length of a tuple1.\n",
    "len(tuple1)"
   ]
  },
  {
   "cell_type": "code",
   "execution_count": 43,
   "id": "fc582a46",
   "metadata": {},
   "outputs": [
    {
     "data": {
      "text/plain": [
       "10"
      ]
     },
     "execution_count": 43,
     "metadata": {},
     "output_type": "execute_result"
    }
   ],
   "source": [
    "#iii) To find the minimum element from tuple1.\n",
    "min(tuple1)"
   ]
  },
  {
   "cell_type": "code",
   "execution_count": 44,
   "id": "dd2d1efb",
   "metadata": {},
   "outputs": [
    {
     "data": {
      "text/plain": [
       "150"
      ]
     },
     "execution_count": 44,
     "metadata": {},
     "output_type": "execute_result"
    }
   ],
   "source": [
    "#iv) To add all elements in the tuple1.\n",
    "sum(tuple1)"
   ]
  },
  {
   "cell_type": "code",
   "execution_count": 46,
   "id": "966c8b4e",
   "metadata": {},
   "outputs": [
    {
     "data": {
      "text/plain": [
       "(10,\n",
       " 50,\n",
       " 20,\n",
       " 40,\n",
       " 30,\n",
       " 10,\n",
       " 50,\n",
       " 20,\n",
       " 40,\n",
       " 30,\n",
       " 10,\n",
       " 50,\n",
       " 20,\n",
       " 40,\n",
       " 30,\n",
       " 10,\n",
       " 50,\n",
       " 20,\n",
       " 40,\n",
       " 30,\n",
       " 10,\n",
       " 50,\n",
       " 20,\n",
       " 40,\n",
       " 30)"
      ]
     },
     "execution_count": 46,
     "metadata": {},
     "output_type": "execute_result"
    }
   ],
   "source": [
    "#v) To display the same tuple1 multiple times.\n",
    "tuple1*5 "
   ]
  },
  {
   "cell_type": "markdown",
   "id": "9b1d0aae",
   "metadata": {},
   "source": [
    "# 5. Write a Python Program:\n",
    "i) To calculate the length of a string\n",
    "ii) To reverse words in a string\n",
    "iii) To display the same string multiple times\n",
    "iv) To concatenate two strings\n",
    "v) Str1=\"South India\",using string slicing to display \"India\""
   ]
  },
  {
   "cell_type": "code",
   "execution_count": 48,
   "id": "e68bb795",
   "metadata": {},
   "outputs": [
    {
     "data": {
      "text/plain": [
       "11"
      ]
     },
     "execution_count": 48,
     "metadata": {},
     "output_type": "execute_result"
    }
   ],
   "source": [
    "#i) To calculate the length of a string\n",
    "Str1 = \"South India\"\n",
    "len(Str1)"
   ]
  },
  {
   "cell_type": "code",
   "execution_count": 51,
   "id": "b2450c46",
   "metadata": {},
   "outputs": [
    {
     "data": {
      "text/plain": [
       "'aidnI htuoS'"
      ]
     },
     "execution_count": 51,
     "metadata": {},
     "output_type": "execute_result"
    }
   ],
   "source": [
    "#ii) To reverse words in a string\n",
    "Str1[::-1]"
   ]
  },
  {
   "cell_type": "code",
   "execution_count": 52,
   "id": "8e488639",
   "metadata": {},
   "outputs": [
    {
     "data": {
      "text/plain": [
       "'South IndiaSouth IndiaSouth IndiaSouth IndiaSouth India'"
      ]
     },
     "execution_count": 52,
     "metadata": {},
     "output_type": "execute_result"
    }
   ],
   "source": [
    "#iii) To display the same string multiple times\n",
    "Str1*5"
   ]
  },
  {
   "cell_type": "code",
   "execution_count": 55,
   "id": "e25bcec1",
   "metadata": {},
   "outputs": [
    {
     "data": {
      "text/plain": [
       "'South India Bengaluru is in South India'"
      ]
     },
     "execution_count": 55,
     "metadata": {},
     "output_type": "execute_result"
    }
   ],
   "source": [
    "#iv) To concatenate two strings\n",
    "Str2 = \"Bengaluru is in South India\"\n",
    "concat_str= Str1 + \" \" + Str2\n",
    "concat_str"
   ]
  },
  {
   "cell_type": "code",
   "execution_count": 56,
   "id": "51236690",
   "metadata": {},
   "outputs": [
    {
     "data": {
      "text/plain": [
       "'India'"
      ]
     },
     "execution_count": 56,
     "metadata": {},
     "output_type": "execute_result"
    }
   ],
   "source": [
    "#v) Str1=\"South India\",using string slicing to display \"India\"\n",
    "Str1[6:]"
   ]
  },
  {
   "cell_type": "markdown",
   "id": "7f98d575",
   "metadata": {},
   "source": [
    "# 6. Perform the following:\n",
    "i) creating the Dictionary\n",
    "ii) Accessing values and keys in the Dictionary.\n",
    "iii) Updating the dictionay using a function.\n",
    "iv) Clear and delete the dictionary values."
   ]
  },
  {
   "cell_type": "code",
   "execution_count": 90,
   "id": "7bbbf6b9",
   "metadata": {},
   "outputs": [
    {
     "data": {
      "text/plain": [
       "{'f_name': 'Vaibhav', 'l_name': 'Pateriya', 'age': 24, 'Country': 'India'}"
      ]
     },
     "execution_count": 90,
     "metadata": {},
     "output_type": "execute_result"
    }
   ],
   "source": [
    "#i) creating the Dictionary\n",
    "candidate = {'f_name':'Vaibhav','l_name':'Pateriya','age': 24, 'Country':'India'}\n",
    "candidate"
   ]
  },
  {
   "cell_type": "code",
   "execution_count": 91,
   "id": "1755865a",
   "metadata": {},
   "outputs": [
    {
     "data": {
      "text/plain": [
       "dict_keys(['f_name', 'l_name', 'age', 'Country'])"
      ]
     },
     "execution_count": 91,
     "metadata": {},
     "output_type": "execute_result"
    }
   ],
   "source": [
    "#ii) Accessing values and keys in the Dictionary.\n",
    "candidate.keys()"
   ]
  },
  {
   "cell_type": "code",
   "execution_count": 92,
   "id": "7fee5507",
   "metadata": {},
   "outputs": [
    {
     "data": {
      "text/plain": [
       "dict_values(['Vaibhav', 'Pateriya', 24, 'India'])"
      ]
     },
     "execution_count": 92,
     "metadata": {},
     "output_type": "execute_result"
    }
   ],
   "source": [
    "candidate.values()"
   ]
  },
  {
   "cell_type": "code",
   "execution_count": 72,
   "id": "ad9b139c",
   "metadata": {},
   "outputs": [
    {
     "data": {
      "text/plain": [
       "{'f_name': 'Vaibhav', 'l_name': 'Pateriya', 'age': 21, 'Country': 'India'}"
      ]
     },
     "execution_count": 72,
     "metadata": {},
     "output_type": "execute_result"
    }
   ],
   "source": [
    "#iii) Updating the dictionay using a function.\n",
    "candidate.update({'age':21})\n",
    "candidate"
   ]
  },
  {
   "cell_type": "code",
   "execution_count": 73,
   "id": "1a72b3fe",
   "metadata": {},
   "outputs": [
    {
     "data": {
      "text/plain": [
       "{'f_name': 'Vaibhav', 'l_name': 'Pateriya', 'Country': 'India'}"
      ]
     },
     "execution_count": 73,
     "metadata": {},
     "output_type": "execute_result"
    }
   ],
   "source": [
    "#iv) Clear and delete the dictionary values.\n",
    "candidate.pop('age')\n",
    "candidate"
   ]
  },
  {
   "cell_type": "markdown",
   "id": "5012c6f0",
   "metadata": {},
   "source": [
    "# 7. Python program to insert a number to any position in a list"
   ]
  },
  {
   "cell_type": "code",
   "execution_count": 74,
   "id": "e01f3ef4",
   "metadata": {},
   "outputs": [
    {
     "data": {
      "text/plain": [
       "[12, 24, 36, 48, 60, 72]"
      ]
     },
     "execution_count": 74,
     "metadata": {},
     "output_type": "execute_result"
    }
   ],
   "source": [
    "list = [12,24,36,60,72]\n",
    "list.insert(3,48)\n",
    "list"
   ]
  },
  {
   "cell_type": "markdown",
   "id": "a7d95a5f",
   "metadata": {},
   "source": [
    "# 8. Python program to delete an element from a list by index"
   ]
  },
  {
   "cell_type": "code",
   "execution_count": 77,
   "id": "30e49933",
   "metadata": {},
   "outputs": [
    {
     "data": {
      "text/plain": [
       "[12, 24, 36, 48, 60]"
      ]
     },
     "execution_count": 77,
     "metadata": {},
     "output_type": "execute_result"
    }
   ],
   "source": [
    "list.pop(5)\n",
    "list"
   ]
  },
  {
   "cell_type": "markdown",
   "id": "45a1b0de",
   "metadata": {},
   "source": [
    "# 9. Write a program to display a number from 1 to 100."
   ]
  },
  {
   "cell_type": "code",
   "execution_count": 82,
   "id": "d6804f1d",
   "metadata": {},
   "outputs": [
    {
     "name": "stdout",
     "output_type": "stream",
     "text": [
      "1\n",
      "2\n",
      "3\n",
      "4\n",
      "5\n",
      "6\n",
      "7\n",
      "8\n",
      "9\n",
      "10\n",
      "11\n",
      "12\n",
      "13\n",
      "14\n",
      "15\n",
      "16\n",
      "17\n",
      "18\n",
      "19\n",
      "20\n",
      "21\n",
      "22\n",
      "23\n",
      "24\n",
      "25\n",
      "26\n",
      "27\n",
      "28\n",
      "29\n",
      "30\n",
      "31\n",
      "32\n",
      "33\n",
      "34\n",
      "35\n",
      "36\n",
      "37\n",
      "38\n",
      "39\n",
      "40\n",
      "41\n",
      "42\n",
      "43\n",
      "44\n",
      "45\n",
      "46\n",
      "47\n",
      "48\n",
      "49\n",
      "50\n",
      "51\n",
      "52\n",
      "53\n",
      "54\n",
      "55\n",
      "56\n",
      "57\n",
      "58\n",
      "59\n",
      "60\n",
      "61\n",
      "62\n",
      "63\n",
      "64\n",
      "65\n",
      "66\n",
      "67\n",
      "68\n",
      "69\n",
      "70\n",
      "71\n",
      "72\n",
      "73\n",
      "74\n",
      "75\n",
      "76\n",
      "77\n",
      "78\n",
      "79\n",
      "80\n",
      "81\n",
      "82\n",
      "83\n",
      "84\n",
      "85\n",
      "86\n",
      "87\n",
      "88\n",
      "89\n",
      "90\n",
      "91\n",
      "92\n",
      "93\n",
      "94\n",
      "95\n",
      "96\n",
      "97\n",
      "98\n",
      "99\n",
      "100\n"
     ]
    }
   ],
   "source": [
    "for i in range(1,101):\n",
    "    print(i)"
   ]
  },
  {
   "cell_type": "markdown",
   "id": "cc30490b",
   "metadata": {},
   "source": [
    "# 10. Write a Python program to find the sum of all items in a tuple."
   ]
  },
  {
   "cell_type": "code",
   "execution_count": 84,
   "id": "d5a5261d",
   "metadata": {},
   "outputs": [
    {
     "name": "stdout",
     "output_type": "stream",
     "text": [
      "150\n"
     ]
    }
   ],
   "source": [
    "tuple1 = (10, 50, 20, 40, 30)\n",
    "sum = 0\n",
    "for i in tuple1:\n",
    "    sum += i\n",
    "print(sum)"
   ]
  },
  {
   "cell_type": "markdown",
   "id": "eca687bf",
   "metadata": {},
   "source": [
    "# 11. Create a dictionary containg three lambda functions square,cube and square root."
   ]
  },
  {
   "cell_type": "code",
   "execution_count": 99,
   "id": "b761dc9a",
   "metadata": {},
   "outputs": [
    {
     "data": {
      "text/plain": [
       "{'Square': <function __main__.<lambda>(num)>,\n",
       " 'Cube': <function __main__.<lambda>(num)>,\n",
       " 'Square_root': <function __main__.<lambda>(num)>}"
      ]
     },
     "execution_count": 99,
     "metadata": {},
     "output_type": "execute_result"
    }
   ],
   "source": [
    "dic = {\n",
    "    'Square': lambda num: num**2,\n",
    "    'Cube': lambda num: num**3,\n",
    "    'Square_root': lambda num: num**0.5\n",
    "}\n",
    "dic"
   ]
  },
  {
   "cell_type": "code",
   "execution_count": 105,
   "id": "cd7a6b88",
   "metadata": {},
   "outputs": [
    {
     "name": "stdout",
     "output_type": "stream",
     "text": [
      "25 125 2.23606797749979\n"
     ]
    }
   ],
   "source": [
    "num = 5\n",
    "result_square = dic['Square'](num)\n",
    "result_cube = dic['Cube'](num)\n",
    "result_square_root = dic['Square_root'](num)\n",
    "print(result_square,result_cube,result_square_root)"
   ]
  },
  {
   "cell_type": "code",
   "execution_count": 107,
   "id": "a9e63ae8",
   "metadata": {},
   "outputs": [
    {
     "name": "stdout",
     "output_type": "stream",
     "text": [
      "152.2360679774998\n"
     ]
    }
   ],
   "source": [
    "total = (result_square+result_cube+result_square_root)\n",
    "print(total)"
   ]
  },
  {
   "cell_type": "markdown",
   "id": "00ad2b54",
   "metadata": {},
   "source": [
    "# 12. A list of words is given. Find the words from the list that have their second character in uppercase.\n",
    "ls = ['hello','Dear','hOw','ARe','You']"
   ]
  },
  {
   "cell_type": "code",
   "execution_count": 122,
   "id": "54c53b58",
   "metadata": {},
   "outputs": [
    {
     "name": "stdout",
     "output_type": "stream",
     "text": [
      "['hOw', 'ARe']\n"
     ]
    }
   ],
   "source": [
    "ls = ['hello','Dear','hOw','ARe','You']\n",
    "result = []\n",
    "for word in ls:\n",
    "    if word[1].isupper():\n",
    "        result.append(word)\n",
    "print(result)  "
   ]
  },
  {
   "cell_type": "markdown",
   "id": "3dbbffd1",
   "metadata": {},
   "source": [
    "# 13. A dictionary of names and their weights on earth is given. Find how much they will weigh on the moon.\n",
    "(use lambda functions) Formula : wMoon = (wEarth * GMoon)/GEarth\n",
    "i) # Weight of people in Kg"
   ]
  },
  {
   "cell_type": "code",
   "execution_count": 127,
   "id": "802e3cea",
   "metadata": {},
   "outputs": [
    {
     "ename": "SyntaxError",
     "evalue": "invalid syntax. Perhaps you forgot a comma? (4123295123.py, line 4)",
     "output_type": "error",
     "traceback": [
      "\u001b[1;36m  Cell \u001b[1;32mIn[127], line 4\u001b[1;36m\u001b[0m\n\u001b[1;33m    wMoon = (WeightOnEarth{'John'}*GMoon)/GEarth\u001b[0m\n\u001b[1;37m             ^\u001b[0m\n\u001b[1;31mSyntaxError\u001b[0m\u001b[1;31m:\u001b[0m invalid syntax. Perhaps you forgot a comma?\n"
     ]
    }
   ],
   "source": [
    "WeightOnEarth = {'John':45,'Shelly':65,'Marry':35}\n",
    "GMoon = 1.622\n",
    "GEarth = 9.81\n",
    "wMoon =  *GMoon)/GEarth\n",
    "\n",
    "WeightOnMoon = {name: (weight * GMoon) / GEarth for name, weight in WeightOnEarth.items()}\n",
    "print(\"Weight on Earth (Kg):\", WeightOnEarth)\n",
    "print(\"Weight on the Moon (Kg):\", WeightOnMoon)"
   ]
  },
  {
   "cell_type": "code",
   "execution_count": null,
   "id": "76f01dd1",
   "metadata": {},
   "outputs": [],
   "source": []
  }
 ],
 "metadata": {
  "kernelspec": {
   "display_name": "Python 3 (ipykernel)",
   "language": "python",
   "name": "python3"
  },
  "language_info": {
   "codemirror_mode": {
    "name": "ipython",
    "version": 3
   },
   "file_extension": ".py",
   "mimetype": "text/x-python",
   "name": "python",
   "nbconvert_exporter": "python",
   "pygments_lexer": "ipython3",
   "version": "3.11.4"
  }
 },
 "nbformat": 4,
 "nbformat_minor": 5
}
