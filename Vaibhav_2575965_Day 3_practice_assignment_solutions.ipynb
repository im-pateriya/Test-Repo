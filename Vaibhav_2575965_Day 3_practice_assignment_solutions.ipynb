{
 "cells": [
  {
   "cell_type": "markdown",
   "id": "6eb43ad0",
   "metadata": {},
   "source": [
    "# File Handling"
   ]
  },
  {
   "cell_type": "markdown",
   "id": "9cc0ab23",
   "metadata": {},
   "source": [
    "# 1. Write a python function that copies a file reading and writing up to 50 characters at a time."
   ]
  },
  {
   "cell_type": "code",
   "execution_count": 1,
   "id": "ee67bd2a",
   "metadata": {},
   "outputs": [],
   "source": [
    "s_file = 'example.txt'\n",
    "d_file = 'example1.txt'\n",
    "def copyf(s_file, d_file):\n",
    "    with open(s_file, 'r') as s:\n",
    "        with open(d_file, 'w') as d:\n",
    "            while True:\n",
    "                data = s.read(50)\n",
    "                if not data:\n",
    "                    break\n",
    "                d.write(data)\n",
    "\n",
    "copyf(s_file, d_file)"
   ]
  },
  {
   "cell_type": "markdown",
   "id": "001f1842",
   "metadata": {},
   "source": [
    "# 2. Print all numbers present in the text file and print the number of blank spaces in that file."
   ]
  },
  {
   "cell_type": "code",
   "execution_count": 7,
   "id": "6eece336",
   "metadata": {},
   "outputs": [
    {
     "name": "stdout",
     "output_type": "stream",
     "text": [
      "Number of blank spaces in the file: 42\n",
      "Number of all numbers in the file: 2\n"
     ]
    }
   ],
   "source": [
    "file = 'example.txt'\n",
    "\n",
    "def count_all_num_blank_spaces(file):\n",
    "    all_num_count = 0\n",
    "    blank_space_count = 0\n",
    "    \n",
    "    with open(file, 'r') as file:\n",
    "        for line in file:\n",
    "            blank_space_count += line.count(' ')\n",
    "            words = line.split()\n",
    "            for word in words:\n",
    "                if word.isdigit():\n",
    "                    all_num_count += 1\n",
    "    return all_num_count, blank_space_count\n",
    "\n",
    "all_num_count, blank_space_count = count_all_num_blank_spaces(file)\n",
    "\n",
    "print(f\"Number of blank spaces in the file: {blank_space_count}\")\n",
    "print(f\"Number of all numbers in the file: {all_num_count}\")\n"
   ]
  },
  {
   "cell_type": "markdown",
   "id": "df1176c1",
   "metadata": {},
   "source": [
    "# 3. Write a function called sed that takes as arguments a pattern string, a replacement string. and two filenames; it should read the first file and write the contents into the second file (creating it if necessary). If the pattern string appears anywhere in the file, it should be replaced with the replacement string. If an error occurs while opening, reading, writing. or closing files, your program should catch the exception, print an error message, and exit."
   ]
  },
  {
   "cell_type": "code",
   "execution_count": 21,
   "id": "4dcf1fb4",
   "metadata": {},
   "outputs": [
    {
     "name": "stdout",
     "output_type": "stream",
     "text": [
      "File 'patterncheck.txt' processed and saved as 'patterncheck1.txt'.\n"
     ]
    }
   ],
   "source": [
    "\n",
    "pattern_to_replace = \"old_pattern\"\n",
    "replacement_string = \"new_pattern\"\n",
    "s_name = \"patterncheck.txt\"\n",
    "d_name = \"patterncheck1.txt\"\n",
    "\n",
    "def sed(pattern, replacement, source_file, destination_file):\n",
    "    try:\n",
    "        with open(source_file, 'r') as s:\n",
    "            content = s.read()\n",
    "            modified_content = content.replace(pattern, replacement)\n",
    "\n",
    "        with open(destination_file, 'w') as d:\n",
    "            d.write(modified_content)\n",
    "\n",
    "        print(f\"File '{source_file}' processed and saved as '{destination_file}'.\")\n",
    "\n",
    "    except FileNotFoundError:\n",
    "        print(f\"Error: File '{source_file}' not found.\")\n",
    "    except Exception as e:\n",
    "        print(f\"An error occurred: {str(e)}\")\n",
    "\n",
    "\n",
    "\n",
    "sed(pattern_to_replace, replacement_string, s_name, d_name)\n",
    "\n"
   ]
  },
  {
   "cell_type": "markdown",
   "id": "c66a9bf5",
   "metadata": {},
   "source": [
    "# 4. Log File Analysis: You have a log file containing records of user activities on a website. Each line in the file represents a log entry with details like timestamp, user ID, and action performed. Your task is to analyze this log file."
   ]
  },
  {
   "cell_type": "markdown",
   "id": "898a3ea1",
   "metadata": {},
   "source": [
    "# a. Write Python code to read the log file and extract specific information, such as the number of unique users or the most common action."
   ]
  },
  {
   "cell_type": "code",
   "execution_count": 1,
   "id": "f882c2df",
   "metadata": {},
   "outputs": [
    {
     "name": "stdout",
     "output_type": "stream",
     "text": [
      "Usage: python wordcount.py apple.txt\n"
     ]
    }
   ],
   "source": [
    "def count_words(filename):\n",
    "    word_count = {}\n",
    "    with open(filename, 'r') as file:\n",
    "        for line in file:\n",
    "            words = line.split()\n",
    "            for word in words:\n",
    "                word = word.strip()\n",
    "                if word:\n",
    "                    if word in word_count:\n",
    "                        word_count[word] += 1\n",
    "                    else:\n",
    "                        word_count[word] = 1\n",
    "    return word_count\n",
    "\n",
    "if __name__ == \"__main__\":\n",
    "    import sys\n",
    "    if len(sys.argv) != 2:\n",
    "        print(\"Usage: python wordcount.py apple.txt\")\n",
    "    else:\n",
    "        filename = sys.argv[1]\n",
    "        word_count = count_words(filename)\n",
    "        for word, count in word_count.items():\n",
    "            print(f\"{word}: {count}\")"
   ]
  },
  {
   "cell_type": "code",
   "execution_count": null,
   "id": "cf5731a7",
   "metadata": {},
   "outputs": [],
   "source": []
  },
  {
   "cell_type": "markdown",
   "id": "931f1629",
   "metadata": {},
   "source": [
    "# b. How would you handle large log files efficiently without loading the entire file into memory?"
   ]
  },
  {
   "cell_type": "code",
   "execution_count": null,
   "id": "459d0068",
   "metadata": {},
   "outputs": [],
   "source": []
  },
  {
   "cell_type": "markdown",
   "id": "2dbe0fba",
   "metadata": {},
   "source": [
    "# 5. Text File Search and Replace: You have a text file with a large amount of text, and you want to search for specific words or phrases and replace them with new content."
   ]
  },
  {
   "cell_type": "markdown",
   "id": "15e464c2",
   "metadata": {},
   "source": [
    "# a. Write Python code to search for and replace text within a text file. "
   ]
  },
  {
   "cell_type": "code",
   "execution_count": 1,
   "id": "cace0418",
   "metadata": {},
   "outputs": [],
   "source": [
    "input_file_path = 'input5.txt'\n",
    "with open('input5.txt', 'w') as input_file:\n",
    "    input_file.write(\"Climate refers to the long-term patterns and averages of weather conditions in a specific region or across the globe. It encompasses factors such as temperature, precipitation, wind patterns, and atmospheric composition. Climate is a dynamic and interconnected system that has a profound impact on ecosystems, human societies, and the environment as a whole. In recent years, the issue of climate change, largely driven by human activities such as the burning of fossil fuels and deforestation, has gained significant attention. Climate change refers to long-term alterations in global and regional climate patterns, leading to rising temperatures, more frequent extreme weather events, and shifts in precipitation patterns. Addressing the challenges posed by climate change has become a critical global priority, with efforts focused on reducing greenhouse gas emissions, adapting to the changing climate, and fostering sustainable practices to ensure a healthier planet for future generations.\")\n",
    "    \n",
    "output_file_path = \"output5.txt\"\n",
    "with open(output_file_path, 'w') as output_file:\n",
    "    pass"
   ]
  },
  {
   "cell_type": "code",
   "execution_count": 2,
   "id": "34362677",
   "metadata": {},
   "outputs": [
    {
     "name": "stdout",
     "output_type": "stream",
     "text": [
      "Search and replace complete. Output written to output5.txt\n"
     ]
    }
   ],
   "source": [
    "def search_replace_in_file(input_file, output_file, search_text, replace_text):\n",
    "    try:\n",
    "\n",
    "        with open(input_file, 'r') as infile:\n",
    "\n",
    "            file_content = infile.read()\n",
    "\n",
    "\n",
    "        modified_content = file_content.replace(search_text, replace_text)\n",
    "\n",
    "\n",
    "        with open(output_file, 'w') as outfile:\n",
    "\n",
    "            outfile.write(modified_content)\n",
    "\n",
    "        print(\"Search and replace complete. Output written to\", output_file)\n",
    "    except Exception as e:\n",
    "        print(\"An error occurred:\", str(e))\n",
    "input_file = \"input5.txt\"   \n",
    "output_file = \"output5.txt\" \n",
    "search_text = \"to\"   \n",
    "replace_text = \"toooo\"  \n",
    "search_replace_in_file(input_file, output_file, search_text, replace_text)"
   ]
  },
  {
   "cell_type": "markdown",
   "id": "548e756c",
   "metadata": {},
   "source": [
    "# b. How would you handle cases where you need to perform multiple replacements in a single pass?"
   ]
  },
  {
   "cell_type": "code",
   "execution_count": null,
   "id": "37c95ebd",
   "metadata": {},
   "outputs": [],
   "source": []
  },
  {
   "cell_type": "markdown",
   "id": "08769a3b",
   "metadata": {},
   "source": [
    "# 6. Write a Python script that concatenates the contents of multiple text files into a single output file. Allow the user to specify the input files and the output file."
   ]
  },
  {
   "cell_type": "code",
   "execution_count": 25,
   "id": "719f3f6f",
   "metadata": {},
   "outputs": [],
   "source": [
    "filenames = ['example.txt', 'example1.txt']\n",
    "\n",
    "with open('output.txt', 'w') as outputresult:\n",
    "\n",
    "    for names in filenames:\n",
    "\n",
    "        # Open each file in read mode\n",
    "        with open(names) as inputdata:\n",
    "              outputresult.write(inputdata.read())\n",
    "\n",
    "        outputresult.write(\"\\n\")\n"
   ]
  },
  {
   "cell_type": "code",
   "execution_count": null,
   "id": "9964eeb1",
   "metadata": {},
   "outputs": [],
   "source": []
  },
  {
   "cell_type": "markdown",
   "id": "9b1a6790",
   "metadata": {},
   "source": [
    "# 7. You are given a text file named input.txt containing a list of words, one word per line. Your task is to create a Python program that reads the contents of input.txt, processes the words, and writes the result to an output file named output.txt.\n",
    "\n",
    "The program should perform the following operations:\n",
    "\n",
    "i. Read the words from input.txt.\n",
    "\n",
    "ii. For each word in the input file, calculate the length of the word and store it in a dictionary where the word is the key, and the length is the value.\n",
    "\n",
    "iii. Write the word-length dictionary to output.txt in the following format: 111.\n",
    "\n",
    "Word1: Length1\n",
    "\n",
    "Word2: Length2\n",
    "\n",
    "iv. Close both input and output files properly.\n",
    "\n",
    "v. Write Python code to accomplish this task. Ensure proper error handling for file operations."
   ]
  },
  {
   "cell_type": "code",
   "execution_count": 32,
   "id": "b80ea272",
   "metadata": {},
   "outputs": [
    {
     "name": "stdout",
     "output_type": "stream",
     "text": [
      "Word-length dictionary written to 'output7.txt'.\n"
     ]
    }
   ],
   "source": [
    "input_file = 'input7.txt'\n",
    "output_file = 'output7.txt'\n",
    "\n",
    "def dict_words(input_file, output_file):\n",
    "    try:\n",
    "        word_lengths = {}\n",
    "        \n",
    "        with open(input_file, 'r') as i:           \n",
    "            for line in i:\n",
    "                word = line.strip()  \n",
    "                length = len(word) \n",
    "                word_lengths[word] = length \n",
    "        \n",
    "        with open(output_file, 'w') as o:\n",
    "            for word, length in word_lengths.items():\n",
    "                o.write(f\"{word}: {length}\\n\")\n",
    "\n",
    "        print(f\"Word-length dictionary written to '{output_file}'.\")\n",
    "\n",
    "    except FileNotFoundError as e:\n",
    "        print(f\"Error: {str(e)}\")\n",
    "    except Exception as e:\n",
    "        print(f\"An error occurred: {str(e)}\")\n",
    "\n",
    "\n",
    "dict_words(input_file, output_file)\n"
   ]
  },
  {
   "cell_type": "markdown",
   "id": "db570595",
   "metadata": {},
   "source": [
    "# 8. Assume that you are developing a student gradebook system for a school. The system should allow teachers to input student grades for various subjects, store the data in files, and provide students with the ability to view their grades.\n",
    "\n",
    "Design a Python program that accomplishes the following tasks:\n",
    "\n",
    "i. Teachers should be able to input grades for students in different subjects.\n",
    "\n",
    "ii. Store the student grade data in separate text files for each subject.\n",
    "\n",
    "iii. Students should be able to view their grades for each subject.\n",
    "\n",
    "iv. Implement error handling for file operations, such as file not found or permission issues."
   ]
  },
  {
   "cell_type": "code",
   "execution_count": null,
   "id": "38df352b",
   "metadata": {},
   "outputs": [
    {
     "name": "stdout",
     "output_type": "stream",
     "text": [
      "\n",
      "Student Gradebook System\n",
      "1. Input Grades\n",
      "2. View Grades\n",
      "3. Exit\n",
      "Enter your choice (1/2/3): 1\n",
      "Enter the subject: math\n",
      "Enter student name: jai\n",
      "Enter math grade for jai: A\n",
      "Grade for jai in math has been recorded.\n",
      "\n",
      "Student Gradebook System\n",
      "1. Input Grades\n",
      "2. View Grades\n",
      "3. Exit\n",
      "Enter your choice (1/2/3): 2\n",
      "Enter the subject: math\n",
      "Grades for math:\n",
      "jai: A\n",
      "\n",
      "Student Gradebook System\n",
      "1. Input Grades\n",
      "2. View Grades\n",
      "3. Exit\n"
     ]
    }
   ],
   "source": [
    "import os\n",
    "\n",
    "def input_grades(subject):\n",
    "    try:\n",
    "        file_name = f\"{subject}.txt\"\n",
    "        with open(file_name, \"a\") as file:\n",
    "            student_name = input(\"Enter student name: \")\n",
    "            grade = input(f\"Enter {subject} grade for {student_name}: \")\n",
    "            file.write(f\"{student_name}: {grade}\\n\")\n",
    "        print(f\"Grade for {student_name} in {subject} has been recorded.\")\n",
    "    except IOError as e:\n",
    "        print(f\"Error: {e}\")\n",
    "\n",
    "def view_grades(subject):\n",
    "    try:\n",
    "        file_name = f\"{subject}.txt\"\n",
    "        if not os.path.exists(file_name):\n",
    "            print(f\"No grades recorded for {subject} yet.\")\n",
    "            return\n",
    "\n",
    "        with open(file_name, \"r\") as file:\n",
    "            print(f\"Grades for {subject}:\")\n",
    "            for line in file:\n",
    "                print(line.strip())\n",
    "    except IOError as e:\n",
    "        print(f\"Error: {e}\")\n",
    "\n",
    "while True:\n",
    "    print(\"\\nStudent Gradebook System\")\n",
    "    print(\"1. Input Grades\")\n",
    "    print(\"2. View Grades\")\n",
    "    print(\"3. Exit\")\n",
    "\n",
    "    choice = input(\"Enter your choice (1/2/3): \")\n",
    "\n",
    "    if choice == \"1\":\n",
    "        subject = input(\"Enter the subject: \")\n",
    "        input_grades(subject)\n",
    "    elif choice == \"2\":\n",
    "        subject = input(\"Enter the subject: \")\n",
    "        view_grades(subject)\n",
    "    elif choice == \"3\":\n",
    "        break\n",
    "    else:\n",
    "        print(\"Invalid choice. Please enter 1, 2, or 3.\")\n",
    "\n",
    "print(\"Goodbye!\")"
   ]
  },
  {
   "cell_type": "code",
   "execution_count": null,
   "id": "8a97d136",
   "metadata": {},
   "outputs": [],
   "source": []
  }
 ],
 "metadata": {
  "kernelspec": {
   "display_name": "Python 3 (ipykernel)",
   "language": "python",
   "name": "python3"
  },
  "language_info": {
   "codemirror_mode": {
    "name": "ipython",
    "version": 3
   },
   "file_extension": ".py",
   "mimetype": "text/x-python",
   "name": "python",
   "nbconvert_exporter": "python",
   "pygments_lexer": "ipython3",
   "version": "3.11.4"
  }
 },
 "nbformat": 4,
 "nbformat_minor": 5
}
