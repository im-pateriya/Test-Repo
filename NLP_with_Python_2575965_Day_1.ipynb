{
 "cells": [
  {
   "cell_type": "markdown",
   "id": "37a60c4e",
   "metadata": {},
   "source": [
    "# 1. What is the purpose of text preprocessing in NLP, and why is it essential before analysis?"
   ]
  },
  {
   "cell_type": "markdown",
   "id": "725fdb49",
   "metadata": {},
   "source": [
    "Text preprocessing in Natural Language Processing (NLP) is the initial phase of data preparation, involving the cleaning and transformation of raw text data. The primary objectives include removing noise, standardizing formats, and organizing text to make it suitable for analysis by machine learning models and algorithms."
   ]
  },
  {
   "cell_type": "markdown",
   "id": "b0c4f5ec",
   "metadata": {},
   "source": [
    "# 2. Describe tokenization in NLP and explain its significance in text processing."
   ]
  },
  {
   "cell_type": "markdown",
   "id": "8096e650",
   "metadata": {},
   "source": [
    "Tokenization is the process of breaking down a text into smaller units, known as tokens. Tokens can be words, phrases, or other meaningful entities. This step is fundamental in NLP as it forms the basis for subsequent analysis, enabling algorithms to operate on discrete units of text."
   ]
  },
  {
   "cell_type": "code",
   "execution_count": 3,
   "id": "91093e89",
   "metadata": {},
   "outputs": [
    {
     "name": "stdout",
     "output_type": "stream",
     "text": [
      "['Tokenization', 'is', 'an', 'important', 'step', 'in', 'NLP', '.']\n"
     ]
    }
   ],
   "source": [
    "from nltk.tokenize import word_tokenize\n",
    "text = \"Tokenization is an important step in NLP.\"\n",
    "tokens = word_tokenize(text)\n",
    "print(tokens)"
   ]
  },
  {
   "cell_type": "markdown",
   "id": "d37832a6",
   "metadata": {},
   "source": [
    "# 3. What are the differences between stemming and lemmatization in NLP? When would you choose one over the other?"
   ]
  },
  {
   "cell_type": "markdown",
   "id": "707dc122",
   "metadata": {},
   "source": [
    "Stemming is a text normalization technique that involves reducing words to their base or root form by removing suffixes. Lemmatization, on the other hand, considers the context and converts words to their base form (lemma). The choice between stemming and lemmatization depends on the balance between computational efficiency and linguistic precision in a given NLP task."
   ]
  },
  {
   "cell_type": "code",
   "execution_count": null,
   "id": "cdf87e02",
   "metadata": {},
   "outputs": [],
   "source": []
  },
  {
   "cell_type": "markdown",
   "id": "3773175c",
   "metadata": {},
   "source": [
    "# 4. Explain the concept of stop words and their role in text preprocessing. How do they impact NLP tasks?"
   ]
  },
  {
   "cell_type": "markdown",
   "id": "896661e5",
   "metadata": {},
   "source": [
    "Stop words are common words, such as \"and,\" \"the,\" and \"is,\" that are often removed during text preprocessing. They are deemed as having little semantic value and are typically excluded to reduce computational complexity and enhance the focus on meaningful content."
   ]
  },
  {
   "cell_type": "code",
   "execution_count": 4,
   "id": "36e578a3",
   "metadata": {},
   "outputs": [
    {
     "name": "stdout",
     "output_type": "stream",
     "text": [
      "['Tokenization', 'important', 'step', 'NLP', '.']\n"
     ]
    }
   ],
   "source": [
    "from nltk.corpus import stopwords\n",
    "stop_words = set(stopwords.words('english'))\n",
    "filtered_text = [word for word in tokens if word.lower() not in stop_words]\n",
    "print(filtered_text)"
   ]
  },
  {
   "cell_type": "markdown",
   "id": "8514804a",
   "metadata": {},
   "source": [
    "# 5. How does the process of removing punctuation contribute to text preprocessing in NLP?What are its benefits?"
   ]
  },
  {
   "cell_type": "markdown",
   "id": "f63cbbd1",
   "metadata": {},
   "source": [
    "Removing punctuation involves eliminating symbols like commas, periods, and exclamation marks from text. This process contributes to cleaner tokenization and helps avoid misinterpretations caused by unnecessary characters."
   ]
  },
  {
   "cell_type": "code",
   "execution_count": 5,
   "id": "a41f3699",
   "metadata": {},
   "outputs": [
    {
     "name": "stdout",
     "output_type": "stream",
     "text": [
      "This is a sample sentence It has some punctuation\n"
     ]
    }
   ],
   "source": [
    "import string\n",
    "text = \"This is a sample sentence! It has some punctuation.\"\n",
    "cleaned_text = text.translate(str.maketrans(\"\", \"\", string.punctuation))\n",
    "print(cleaned_text)"
   ]
  },
  {
   "cell_type": "markdown",
   "id": "9cc27b1b",
   "metadata": {},
   "source": [
    "# 6. Discuss the importance of lowercase conversion in text preprocessing. Why is it a common step in NLP tasks?"
   ]
  },
  {
   "cell_type": "markdown",
   "id": "9e1455b2",
   "metadata": {},
   "source": [
    "Lowercase conversion is the practice of transforming all text to lowercase. This ensures consistency in text data by treating words with different cases as identical entities. It is a common step in NLP tasks such as text classification."
   ]
  },
  {
   "cell_type": "code",
   "execution_count": 7,
   "id": "080581ed",
   "metadata": {},
   "outputs": [
    {
     "name": "stdout",
     "output_type": "stream",
     "text": [
      "this is a sample text.\n"
     ]
    }
   ],
   "source": [
    "text = \"This is a Sample Text.\"\n",
    "lowercased_text = text.lower()\n",
    "print(lowercased_text)"
   ]
  },
  {
   "cell_type": "markdown",
   "id": "401951da",
   "metadata": {},
   "source": [
    "# 7. Explain the term \"vectorization\" concerning text data. How does techniques like CountVectorizer contribute to text preprocessing in NLP?"
   ]
  },
  {
   "cell_type": "markdown",
   "id": "095e6a73",
   "metadata": {},
   "source": [
    "Vectorization in NLP refers to the process of converting textual data into numerical vectors. Techniques like CountVectorizer create matrices representing the frequency of words in documents. Vectorization is essential for machine learning models that require numerical input."
   ]
  },
  {
   "cell_type": "code",
   "execution_count": 8,
   "id": "bf1308b7",
   "metadata": {},
   "outputs": [
    {
     "name": "stdout",
     "output_type": "stream",
     "text": [
      "  (0, 6)\t1\n",
      "  (0, 3)\t1\n",
      "  (0, 4)\t1\n",
      "  (0, 5)\t1\n",
      "  (1, 5)\t1\n",
      "  (1, 0)\t1\n",
      "  (1, 2)\t1\n",
      "  (1, 1)\t1\n"
     ]
    }
   ],
   "source": [
    "from sklearn.feature_extraction.text import CountVectorizer\n",
    "corpus = [\"This is a sample sentence.\", \"Another sentence for demonstration.\"]\n",
    "vectorizer = CountVectorizer()\n",
    "X = vectorizer.fit_transform(corpus)\n",
    "print(X)"
   ]
  },
  {
   "cell_type": "markdown",
   "id": "1eceef4b",
   "metadata": {},
   "source": [
    "# 8. Describe the concept of normalization in NLP. Provide examples of normalization techniques used in text preprocessing"
   ]
  },
  {
   "cell_type": "markdown",
   "id": "ff98dd19",
   "metadata": {},
   "source": [
    " Normalization in NLP involves transforming text data into a consistent format. This includes steps like lowercasing, stemming, lemmatization, and removing special characters. The goal is to create uniformity in the representation of text, facilitating effective analysis."
   ]
  },
  {
   "cell_type": "code",
   "execution_count": 9,
   "id": "3d93e632",
   "metadata": {},
   "outputs": [
    {
     "name": "stdout",
     "output_type": "stream",
     "text": [
      "['token', 'is', 'an', 'import', 'step', 'in', 'nlp', '.']\n"
     ]
    }
   ],
   "source": [
    "from nltk.stem import PorterStemmer\n",
    "stemmer = PorterStemmer()\n",
    "normalized_text = [stemmer.stem(word) for word in tokens]\n",
    "print(normalized_text)"
   ]
  },
  {
   "cell_type": "code",
   "execution_count": null,
   "id": "b940e981",
   "metadata": {},
   "outputs": [],
   "source": []
  }
 ],
 "metadata": {
  "kernelspec": {
   "display_name": "Python 3 (ipykernel)",
   "language": "python",
   "name": "python3"
  },
  "language_info": {
   "codemirror_mode": {
    "name": "ipython",
    "version": 3
   },
   "file_extension": ".py",
   "mimetype": "text/x-python",
   "name": "python",
   "nbconvert_exporter": "python",
   "pygments_lexer": "ipython3",
   "version": "3.11.4"
  }
 },
 "nbformat": 4,
 "nbformat_minor": 5
}
