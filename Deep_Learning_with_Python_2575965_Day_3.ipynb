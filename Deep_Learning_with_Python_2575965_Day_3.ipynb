{
 "cells": [
  {
   "cell_type": "code",
   "execution_count": 1,
   "id": "992c6799",
   "metadata": {},
   "outputs": [],
   "source": [
    "import pandas as pd\n",
    "import numpy as np\n",
    "\n",
    "np.random.seed(1212)\n",
    "\n",
    "import keras\n",
    "from keras.models import Model\n",
    "from keras.layers import *\n",
    "from keras import optimizers"
   ]
  },
  {
   "cell_type": "code",
   "execution_count": 2,
   "id": "e6dd52c6",
   "metadata": {},
   "outputs": [],
   "source": [
    "df_train = pd.read_csv('mnist_digit_train.csv')\n",
    "df_test = pd.read_csv('mnist_digit_test.csv')"
   ]
  },
  {
   "cell_type": "code",
   "execution_count": 3,
   "id": "0868cb9f",
   "metadata": {},
   "outputs": [
    {
     "data": {
      "text/html": [
       "<div>\n",
       "<style scoped>\n",
       "    .dataframe tbody tr th:only-of-type {\n",
       "        vertical-align: middle;\n",
       "    }\n",
       "\n",
       "    .dataframe tbody tr th {\n",
       "        vertical-align: top;\n",
       "    }\n",
       "\n",
       "    .dataframe thead th {\n",
       "        text-align: right;\n",
       "    }\n",
       "</style>\n",
       "<table border=\"1\" class=\"dataframe\">\n",
       "  <thead>\n",
       "    <tr style=\"text-align: right;\">\n",
       "      <th></th>\n",
       "      <th>label</th>\n",
       "      <th>pixel0</th>\n",
       "      <th>pixel1</th>\n",
       "      <th>pixel2</th>\n",
       "      <th>pixel3</th>\n",
       "      <th>pixel4</th>\n",
       "      <th>pixel5</th>\n",
       "      <th>pixel6</th>\n",
       "      <th>pixel7</th>\n",
       "      <th>pixel8</th>\n",
       "      <th>...</th>\n",
       "      <th>pixel774</th>\n",
       "      <th>pixel775</th>\n",
       "      <th>pixel776</th>\n",
       "      <th>pixel777</th>\n",
       "      <th>pixel778</th>\n",
       "      <th>pixel779</th>\n",
       "      <th>pixel780</th>\n",
       "      <th>pixel781</th>\n",
       "      <th>pixel782</th>\n",
       "      <th>pixel783</th>\n",
       "    </tr>\n",
       "  </thead>\n",
       "  <tbody>\n",
       "    <tr>\n",
       "      <th>0</th>\n",
       "      <td>1</td>\n",
       "      <td>0</td>\n",
       "      <td>0</td>\n",
       "      <td>0</td>\n",
       "      <td>0</td>\n",
       "      <td>0</td>\n",
       "      <td>0</td>\n",
       "      <td>0</td>\n",
       "      <td>0</td>\n",
       "      <td>0</td>\n",
       "      <td>...</td>\n",
       "      <td>0</td>\n",
       "      <td>0</td>\n",
       "      <td>0</td>\n",
       "      <td>0</td>\n",
       "      <td>0</td>\n",
       "      <td>0</td>\n",
       "      <td>0</td>\n",
       "      <td>0</td>\n",
       "      <td>0</td>\n",
       "      <td>0</td>\n",
       "    </tr>\n",
       "    <tr>\n",
       "      <th>1</th>\n",
       "      <td>0</td>\n",
       "      <td>0</td>\n",
       "      <td>0</td>\n",
       "      <td>0</td>\n",
       "      <td>0</td>\n",
       "      <td>0</td>\n",
       "      <td>0</td>\n",
       "      <td>0</td>\n",
       "      <td>0</td>\n",
       "      <td>0</td>\n",
       "      <td>...</td>\n",
       "      <td>0</td>\n",
       "      <td>0</td>\n",
       "      <td>0</td>\n",
       "      <td>0</td>\n",
       "      <td>0</td>\n",
       "      <td>0</td>\n",
       "      <td>0</td>\n",
       "      <td>0</td>\n",
       "      <td>0</td>\n",
       "      <td>0</td>\n",
       "    </tr>\n",
       "    <tr>\n",
       "      <th>2</th>\n",
       "      <td>1</td>\n",
       "      <td>0</td>\n",
       "      <td>0</td>\n",
       "      <td>0</td>\n",
       "      <td>0</td>\n",
       "      <td>0</td>\n",
       "      <td>0</td>\n",
       "      <td>0</td>\n",
       "      <td>0</td>\n",
       "      <td>0</td>\n",
       "      <td>...</td>\n",
       "      <td>0</td>\n",
       "      <td>0</td>\n",
       "      <td>0</td>\n",
       "      <td>0</td>\n",
       "      <td>0</td>\n",
       "      <td>0</td>\n",
       "      <td>0</td>\n",
       "      <td>0</td>\n",
       "      <td>0</td>\n",
       "      <td>0</td>\n",
       "    </tr>\n",
       "    <tr>\n",
       "      <th>3</th>\n",
       "      <td>4</td>\n",
       "      <td>0</td>\n",
       "      <td>0</td>\n",
       "      <td>0</td>\n",
       "      <td>0</td>\n",
       "      <td>0</td>\n",
       "      <td>0</td>\n",
       "      <td>0</td>\n",
       "      <td>0</td>\n",
       "      <td>0</td>\n",
       "      <td>...</td>\n",
       "      <td>0</td>\n",
       "      <td>0</td>\n",
       "      <td>0</td>\n",
       "      <td>0</td>\n",
       "      <td>0</td>\n",
       "      <td>0</td>\n",
       "      <td>0</td>\n",
       "      <td>0</td>\n",
       "      <td>0</td>\n",
       "      <td>0</td>\n",
       "    </tr>\n",
       "    <tr>\n",
       "      <th>4</th>\n",
       "      <td>0</td>\n",
       "      <td>0</td>\n",
       "      <td>0</td>\n",
       "      <td>0</td>\n",
       "      <td>0</td>\n",
       "      <td>0</td>\n",
       "      <td>0</td>\n",
       "      <td>0</td>\n",
       "      <td>0</td>\n",
       "      <td>0</td>\n",
       "      <td>...</td>\n",
       "      <td>0</td>\n",
       "      <td>0</td>\n",
       "      <td>0</td>\n",
       "      <td>0</td>\n",
       "      <td>0</td>\n",
       "      <td>0</td>\n",
       "      <td>0</td>\n",
       "      <td>0</td>\n",
       "      <td>0</td>\n",
       "      <td>0</td>\n",
       "    </tr>\n",
       "  </tbody>\n",
       "</table>\n",
       "<p>5 rows × 785 columns</p>\n",
       "</div>"
      ],
      "text/plain": [
       "   label  pixel0  pixel1  pixel2  pixel3  pixel4  pixel5  pixel6  pixel7  \\\n",
       "0      1       0       0       0       0       0       0       0       0   \n",
       "1      0       0       0       0       0       0       0       0       0   \n",
       "2      1       0       0       0       0       0       0       0       0   \n",
       "3      4       0       0       0       0       0       0       0       0   \n",
       "4      0       0       0       0       0       0       0       0       0   \n",
       "\n",
       "   pixel8  ...  pixel774  pixel775  pixel776  pixel777  pixel778  pixel779  \\\n",
       "0       0  ...         0         0         0         0         0         0   \n",
       "1       0  ...         0         0         0         0         0         0   \n",
       "2       0  ...         0         0         0         0         0         0   \n",
       "3       0  ...         0         0         0         0         0         0   \n",
       "4       0  ...         0         0         0         0         0         0   \n",
       "\n",
       "   pixel780  pixel781  pixel782  pixel783  \n",
       "0         0         0         0         0  \n",
       "1         0         0         0         0  \n",
       "2         0         0         0         0  \n",
       "3         0         0         0         0  \n",
       "4         0         0         0         0  \n",
       "\n",
       "[5 rows x 785 columns]"
      ]
     },
     "execution_count": 3,
     "metadata": {},
     "output_type": "execute_result"
    }
   ],
   "source": [
    "df_train.head() # 784 features, 1 label"
   ]
  },
  {
   "cell_type": "code",
   "execution_count": 4,
   "id": "f86b3b79",
   "metadata": {},
   "outputs": [
    {
     "name": "stdout",
     "output_type": "stream",
     "text": [
      "(28000, 784)\n"
     ]
    }
   ],
   "source": [
    "df_features = df_train.iloc[:, 1:785]\n",
    "df_label = df_train.iloc[:, 0]\n",
    "\n",
    "X_test = df_test.iloc[:, 0:784]\n",
    "\n",
    "print(X_test.shape)"
   ]
  },
  {
   "cell_type": "code",
   "execution_count": 6,
   "id": "f8b6b4f9",
   "metadata": {},
   "outputs": [],
   "source": [
    "from sklearn.model_selection import train_test_split\n",
    "\n",
    "X_train, X_cv, y_train, y_cv = train_test_split(df_features, df_label, \n",
    "                                                test_size=0.2,\n",
    "                                                random_state=1212)\n",
    "\n",
    "X_train = X_train.values.reshape(33600, 784)\n",
    "X_cv = X_cv.values.reshape(8400, 784)\n",
    "X_test = X_test.values.reshape(28000, 784)\n"
   ]
  },
  {
   "cell_type": "markdown",
   "id": "20a1054b",
   "metadata": {},
   "source": [
    "# Data cleaning, normalization and selection"
   ]
  },
  {
   "cell_type": "code",
   "execution_count": 7,
   "id": "b2c3b799",
   "metadata": {},
   "outputs": [
    {
     "name": "stdout",
     "output_type": "stream",
     "text": [
      "(0, 255)\n"
     ]
    }
   ],
   "source": [
    "print((min(X_train[1]), max(X_train[1])))"
   ]
  },
  {
   "cell_type": "code",
   "execution_count": 8,
   "id": "e0984c07",
   "metadata": {},
   "outputs": [],
   "source": [
    "# Feature Normalization \n",
    "X_train = X_train.astype('float32'); X_cv= X_cv.astype('float32'); X_test = X_test.astype('float32')\n",
    "X_train /= 255; X_cv /= 255; X_test /= 255\n",
    "\n",
    "# Convert labels to One Hot Encoded\n",
    "num_digits = 10\n",
    "y_train = keras.utils.to_categorical(y_train, num_digits)\n",
    "y_cv = keras.utils.to_categorical(y_cv, num_digits)"
   ]
  },
  {
   "cell_type": "code",
   "execution_count": 9,
   "id": "ad20e579",
   "metadata": {},
   "outputs": [
    {
     "name": "stdout",
     "output_type": "stream",
     "text": [
      "[0. 0. 1. 0. 0. 0. 0. 0. 0. 0.]\n",
      "[0. 0. 0. 0. 0. 0. 0. 1. 0. 0.]\n"
     ]
    }
   ],
   "source": [
    "# Printing 2 examples of labels after conversion\n",
    "print(y_train[0]) # 2\n",
    "print(y_train[3]) # 7"
   ]
  },
  {
   "cell_type": "markdown",
   "id": "20d6d20e",
   "metadata": {},
   "source": [
    "# Model Fitting"
   ]
  },
  {
   "cell_type": "code",
   "execution_count": 10,
   "id": "33c2d557",
   "metadata": {},
   "outputs": [],
   "source": [
    "# Input Parameters\n",
    "n_input = 784 # number of features\n",
    "n_hidden_1 = 300\n",
    "n_hidden_2 = 100\n",
    "n_hidden_3 = 100\n",
    "n_hidden_4 = 200\n",
    "num_digits = 10"
   ]
  },
  {
   "cell_type": "code",
   "execution_count": 11,
   "id": "eadd82ea",
   "metadata": {},
   "outputs": [],
   "source": [
    "Inp = Input(shape=(784,))\n",
    "x = Dense(n_hidden_1, activation='relu', name = \"Hidden_Layer_1\")(Inp)\n",
    "x = Dense(n_hidden_2, activation='relu', name = \"Hidden_Layer_2\")(x)\n",
    "x = Dense(n_hidden_3, activation='relu', name = \"Hidden_Layer_3\")(x)\n",
    "x = Dense(n_hidden_4, activation='relu', name = \"Hidden_Layer_4\")(x)\n",
    "output = Dense(num_digits, activation='softmax', name = \"Output_Layer\")(x)"
   ]
  },
  {
   "cell_type": "code",
   "execution_count": 12,
   "id": "26a65125",
   "metadata": {},
   "outputs": [
    {
     "name": "stdout",
     "output_type": "stream",
     "text": [
      "Model: \"model\"\n",
      "_________________________________________________________________\n",
      " Layer (type)                Output Shape              Param #   \n",
      "=================================================================\n",
      " input_1 (InputLayer)        [(None, 784)]             0         \n",
      "                                                                 \n",
      " Hidden_Layer_1 (Dense)      (None, 300)               235500    \n",
      "                                                                 \n",
      " Hidden_Layer_2 (Dense)      (None, 100)               30100     \n",
      "                                                                 \n",
      " Hidden_Layer_3 (Dense)      (None, 100)               10100     \n",
      "                                                                 \n",
      " Hidden_Layer_4 (Dense)      (None, 200)               20200     \n",
      "                                                                 \n",
      " Output_Layer (Dense)        (None, 10)                2010      \n",
      "                                                                 \n",
      "=================================================================\n",
      "Total params: 297910 (1.14 MB)\n",
      "Trainable params: 297910 (1.14 MB)\n",
      "Non-trainable params: 0 (0.00 Byte)\n",
      "_________________________________________________________________\n"
     ]
    }
   ],
   "source": [
    "# Our model would have '6' layers - input layer, 4 hidden layer and 1 output layer\n",
    "model = Model(Inp, output)\n",
    "model.summary() # We have 297,910 parameters to estimate"
   ]
  },
  {
   "cell_type": "code",
   "execution_count": 13,
   "id": "1c886161",
   "metadata": {},
   "outputs": [
    {
     "name": "stderr",
     "output_type": "stream",
     "text": [
      "WARNING:absl:`lr` is deprecated in Keras optimizer, please use `learning_rate` or use the legacy optimizer, e.g.,tf.keras.optimizers.legacy.SGD.\n"
     ]
    }
   ],
   "source": [
    "# Insert Hyperparameters\n",
    "learning_rate = 0.1\n",
    "training_epochs = 20\n",
    "batch_size = 100\n",
    "sgd = optimizers.SGD(lr=learning_rate)"
   ]
  },
  {
   "cell_type": "code",
   "execution_count": 14,
   "id": "deea8a52",
   "metadata": {},
   "outputs": [],
   "source": [
    "# We rely on the plain vanilla Stochastic Gradient Descent as our optimizing methodology\n",
    "model.compile(loss='categorical_crossentropy',\n",
    "              optimizer='sgd',\n",
    "              metrics=['accuracy'])"
   ]
  },
  {
   "cell_type": "code",
   "execution_count": 15,
   "id": "119f3fb4",
   "metadata": {},
   "outputs": [
    {
     "name": "stdout",
     "output_type": "stream",
     "text": [
      "Epoch 1/20\n",
      "336/336 - 3s - loss: 1.7596 - accuracy: 0.5315 - val_loss: 0.8909 - val_accuracy: 0.7824 - 3s/epoch - 8ms/step\n",
      "Epoch 2/20\n",
      "336/336 - 2s - loss: 0.5928 - accuracy: 0.8421 - val_loss: 0.4409 - val_accuracy: 0.8758 - 2s/epoch - 5ms/step\n",
      "Epoch 3/20\n",
      "336/336 - 2s - loss: 0.3968 - accuracy: 0.8875 - val_loss: 0.3578 - val_accuracy: 0.8968 - 2s/epoch - 5ms/step\n",
      "Epoch 4/20\n",
      "336/336 - 2s - loss: 0.3343 - accuracy: 0.9046 - val_loss: 0.3110 - val_accuracy: 0.9114 - 2s/epoch - 5ms/step\n",
      "Epoch 5/20\n",
      "336/336 - 2s - loss: 0.2976 - accuracy: 0.9143 - val_loss: 0.2862 - val_accuracy: 0.9162 - 2s/epoch - 5ms/step\n",
      "Epoch 6/20\n",
      "336/336 - 2s - loss: 0.2719 - accuracy: 0.9207 - val_loss: 0.2653 - val_accuracy: 0.9239 - 2s/epoch - 5ms/step\n",
      "Epoch 7/20\n",
      "336/336 - 2s - loss: 0.2503 - accuracy: 0.9274 - val_loss: 0.2571 - val_accuracy: 0.9265 - 2s/epoch - 5ms/step\n",
      "Epoch 8/20\n",
      "336/336 - 2s - loss: 0.2324 - accuracy: 0.9326 - val_loss: 0.2432 - val_accuracy: 0.9292 - 2s/epoch - 5ms/step\n",
      "Epoch 9/20\n",
      "336/336 - 2s - loss: 0.2163 - accuracy: 0.9373 - val_loss: 0.2225 - val_accuracy: 0.9358 - 2s/epoch - 5ms/step\n",
      "Epoch 10/20\n",
      "336/336 - 2s - loss: 0.2032 - accuracy: 0.9405 - val_loss: 0.2117 - val_accuracy: 0.9381 - 2s/epoch - 5ms/step\n",
      "Epoch 11/20\n",
      "336/336 - 2s - loss: 0.1902 - accuracy: 0.9447 - val_loss: 0.2062 - val_accuracy: 0.9388 - 2s/epoch - 5ms/step\n",
      "Epoch 12/20\n",
      "336/336 - 2s - loss: 0.1794 - accuracy: 0.9481 - val_loss: 0.1984 - val_accuracy: 0.9421 - 2s/epoch - 5ms/step\n",
      "Epoch 13/20\n",
      "336/336 - 2s - loss: 0.1692 - accuracy: 0.9517 - val_loss: 0.1895 - val_accuracy: 0.9430 - 2s/epoch - 5ms/step\n",
      "Epoch 14/20\n",
      "336/336 - 2s - loss: 0.1593 - accuracy: 0.9539 - val_loss: 0.1806 - val_accuracy: 0.9473 - 2s/epoch - 5ms/step\n",
      "Epoch 15/20\n",
      "336/336 - 2s - loss: 0.1512 - accuracy: 0.9568 - val_loss: 0.1692 - val_accuracy: 0.9498 - 2s/epoch - 5ms/step\n",
      "Epoch 16/20\n",
      "336/336 - 2s - loss: 0.1438 - accuracy: 0.9579 - val_loss: 0.1675 - val_accuracy: 0.9530 - 2s/epoch - 5ms/step\n",
      "Epoch 17/20\n",
      "336/336 - 2s - loss: 0.1362 - accuracy: 0.9601 - val_loss: 0.1689 - val_accuracy: 0.9510 - 2s/epoch - 6ms/step\n",
      "Epoch 18/20\n",
      "336/336 - 2s - loss: 0.1297 - accuracy: 0.9625 - val_loss: 0.1521 - val_accuracy: 0.9560 - 2s/epoch - 5ms/step\n",
      "Epoch 19/20\n",
      "336/336 - 2s - loss: 0.1235 - accuracy: 0.9639 - val_loss: 0.1512 - val_accuracy: 0.9555 - 2s/epoch - 6ms/step\n",
      "Epoch 20/20\n",
      "336/336 - 2s - loss: 0.1181 - accuracy: 0.9661 - val_loss: 0.1533 - val_accuracy: 0.9548 - 2s/epoch - 6ms/step\n"
     ]
    }
   ],
   "source": [
    "history1 = model.fit(X_train, y_train,\n",
    "                     batch_size = batch_size,\n",
    "                     epochs = training_epochs,\n",
    "                     verbose = 2,\n",
    "                     validation_data=(X_cv, y_cv))"
   ]
  },
  {
   "cell_type": "markdown",
   "id": "4cc73fae",
   "metadata": {},
   "source": [
    "Achieved a training score of around 96-98% and a test score of around 95 - 97%."
   ]
  },
  {
   "cell_type": "code",
   "execution_count": null,
   "id": "40e7ba38",
   "metadata": {},
   "outputs": [],
   "source": []
  }
 ],
 "metadata": {
  "kernelspec": {
   "display_name": "Python 3 (ipykernel)",
   "language": "python",
   "name": "python3"
  },
  "language_info": {
   "codemirror_mode": {
    "name": "ipython",
    "version": 3
   },
   "file_extension": ".py",
   "mimetype": "text/x-python",
   "name": "python",
   "nbconvert_exporter": "python",
   "pygments_lexer": "ipython3",
   "version": "3.11.4"
  }
 },
 "nbformat": 4,
 "nbformat_minor": 5
}
